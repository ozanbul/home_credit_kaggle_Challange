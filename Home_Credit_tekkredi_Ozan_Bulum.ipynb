{
 "cells": [
  {
   "cell_type": "markdown",
   "metadata": {},
   "source": [
    "# TekKredi Machine Learning Challenge - Credit Scoring\n",
    "#### Ozan Bekir Bulum"
   ]
  },
  {
   "cell_type": "markdown",
   "metadata": {},
   "source": [
    "<a id='contents'></a>\n",
    "## Contents\n",
    "* [Introduction](#introduction)\n",
    "  * [Problem Statement & Goal of the Project](#statement)\n",
    "  * [Data Summary](#data_summary)\n",
    "* [EDA](#eda)\n",
    "  * [Reading Data](#reading_data)\n",
    "  * [Tables](#tables)   \n",
    "    * [Application Table](#application)\n",
    "    * [Bureau Table](#bureau)\n",
    "    * [Bureau Balance Table](#bureau_balance)\n",
    "    * [Previous Application Table](#previous_application)\n",
    "    * [Pos Cash Balance](#pos_cash_balance)\n",
    "    * [Install Payments Table](#install_payments) \n",
    "    * [Credit Card Balance](#credit_card_balance) \n",
    "* [Feature Engineering](#f_e)\n",
    "  * [Existing Feature Selection](#existing_feature_selection) \n",
    "    * [Application Table Feature Selection](#existing_feature_selection_application) \n",
    "  * [New Feature Creation](#new_featues)\n",
    "    * [Application Table New Feature Creation](#new_featues_application)\n",
    "    * [Bureau and Bureau Balance Table New Feature Creation](#new_featues_bureau)\n",
    "    * [Previous Application Table New Feature Creation](#new_featues_previous-application) \n",
    "    * [Pos Cash Table New Feature Creation](#new_featues_pos_cash) \n",
    "    * [Credit Card Table New Feature Creation](#new_featues_credit_card_balance)   \n",
    "    * [Installement Payments Table New Feature Creation](#new_featues_install_payments)\n",
    "* [Modeling](#modeling)\n",
    "  * [Create Feature Dataset](#feature_set)\n",
    "  * [Model Evolution](#model_evo)\n",
    "    * [LightGBM](#lightgbm)\n",
    "  * [Predicting Test Set and Create Submission](#test_set) \n",
    "* [Final Words](#final_words)\n",
    "  * [Summary of the Results](#summary_result) \n",
    "  * [Future Work](#future) \n",
    "    \n",
    "    "
   ]
  },
  {
   "cell_type": "markdown",
   "metadata": {},
   "source": [
    "## <a id='intoduction'>Introduction</a><br> "
   ]
  },
  {
   "cell_type": "markdown",
   "metadata": {},
   "source": [
    "### <a id='statement'>Problem Statement & Goal of the Project</a><br> "
   ]
  },
  {
   "cell_type": "markdown",
   "metadata": {},
   "source": [
    "Home Credit Group is an international consumer finance provider. Company offers sales finance through consumer finance to branch-enabled lending. Home Credit makes use of a variety of alternative data--including telco and transactional information--to predict their clients' repayment abilities.Company specializes in providing loans to people that have low exposure to banking services. \n",
    "\n",
    "   Home Credit Group's Kaggle Challenge is to predict how capable each applicant is of repaying a loan. Submission evaluated on area under the ROC curve between the predicted probability and the observed target. The goal of the challenge is to ensure that clients capable of repayment are not rejected and that loans are given with a principal, maturity, and repayment calendar that will empower their clients to be successful.\n",
    "   \n",
    "Data can be downloaded from [Kaggle Challenge's webpage](https://www.kaggle.com/c/home-credit-default-risk/data).\n",
    "\n"
   ]
  },
  {
   "cell_type": "markdown",
   "metadata": {},
   "source": [
    "### <a id='data_summary'>Data Summary</a><br> "
   ]
  },
  {
   "attachments": {
    "image.png": {
     "image/png": "[encoded data removed]"
    }
   },
   "cell_type": "markdown",
   "metadata": {},
   "source": [
    "The dataset is provided with 7 tables, also a column description table is included . ID of loans (\"SK_ID_PREV\" and \"SK_ID_CURR\") are primary keys, tables are connected to each other with those key.\n",
    "\n",
    "\n",
    "![image.png](attachment:image.png)"
   ]
  },
  {
   "cell_type": "markdown",
   "metadata": {},
   "source": [
    "![tables](home_credit_tables.png \"Tables\")"
   ]
  },
  {
   "cell_type": "markdown",
   "metadata": {},
   "source": [
    "##  <a id='eda'>EDA</a><br>  \n",
    "[Back to Contents](#contents)"
   ]
  },
  {
   "cell_type": "markdown",
   "metadata": {},
   "source": [
    "###  <a id='reading_data'>Reading Data</a><br>  "
   ]
  },
  {
   "cell_type": "code",
   "execution_count": 1,
   "metadata": {},
   "outputs": [],
   "source": [
    "import pandas as pd\n",
    "import numpy as np\n",
    "import matplotlib.pyplot as plt\n",
    "import seaborn as sns\n",
    "sns.set_palette(\"husl\")\n",
    "sns.set_style(\"whitegrid\")\n",
    "%matplotlib inline\n",
    "import warnings\n",
    "warnings.filterwarnings(\"ignore\")\n",
    "import matplotlib.gridspec as gridspec\n",
    "import gc\n",
    "from sklearn.preprocessing import LabelEncoder"
   ]
  },
  {
   "cell_type": "code",
   "execution_count": 42,
   "metadata": {},
   "outputs": [
    {
     "name": "stdout",
     "output_type": "stream",
     "text": [
      "CPU times: user 6.47 s, sys: 252 ms, total: 6.72 s\n",
      "Wall time: 6.47 s\n"
     ]
    }
   ],
   "source": [
    "%%time\n",
    "# Reading application table (main table)\n",
    "application = pd.read_csv(\"../Home_Credit_Default_Risk/data/application_train.csv\")\n",
    "test = pd.read_csv(\"../Home_Credit_Default_Risk/data/application_test.csv\")\n"
   ]
  },
  {
   "cell_type": "code",
   "execution_count": 3,
   "metadata": {},
   "outputs": [
    {
     "name": "stdout",
     "output_type": "stream",
     "text": [
      "CPU times: user 3.35 s, sys: 200 ms, total: 3.55 s\n",
      "Wall time: 3.4 s\n"
     ]
    }
   ],
   "source": [
    "%%time\n",
    "# Reading bureau table \n",
    "\n",
    "bureau = pd.read_csv(\"../Home_Credit_Default_Risk/data/bureau.csv\")"
   ]
  },
  {
   "cell_type": "code",
   "execution_count": 4,
   "metadata": {},
   "outputs": [
    {
     "name": "stdout",
     "output_type": "stream",
     "text": [
      "CPU times: user 6.75 s, sys: 827 ms, total: 7.58 s\n",
      "Wall time: 6.87 s\n"
     ]
    }
   ],
   "source": [
    "%%time\n",
    "# Reading bureau balance table \n",
    "\n",
    "bureau_balance = pd.read_csv(\"../Home_Credit_Default_Risk/data/bureau_balance.csv\")"
   ]
  },
  {
   "cell_type": "code",
   "execution_count": 5,
   "metadata": {},
   "outputs": [
    {
     "name": "stdout",
     "output_type": "stream",
     "text": [
      "CPU times: user 8.93 s, sys: 380 ms, total: 9.31 s\n",
      "Wall time: 9.08 s\n"
     ]
    }
   ],
   "source": [
    "%%time\n",
    "# Reading previous application table \n",
    "\n",
    "previous_application = pd.read_csv(\"../Home_Credit_Default_Risk/data/previous_application.csv\")"
   ]
  },
  {
   "cell_type": "code",
   "execution_count": 6,
   "metadata": {},
   "outputs": [
    {
     "name": "stdout",
     "output_type": "stream",
     "text": [
      "CPU times: user 6.28 s, sys: 555 ms, total: 6.84 s\n",
      "Wall time: 6.69 s\n"
     ]
    }
   ],
   "source": [
    "%%time\n",
    "# Reading Pos Cash\n",
    "\n",
    "POS_CASH_balance = pd.read_csv(\"../Home_Credit_Default_Risk/data/POS_CASH_balance.csv\") "
   ]
  },
  {
   "cell_type": "code",
   "execution_count": 7,
   "metadata": {},
   "outputs": [
    {
     "name": "stdout",
     "output_type": "stream",
     "text": [
      "CPU times: user 10.6 s, sys: 1.04 s, total: 11.7 s\n",
      "Wall time: 11.4 s\n"
     ]
    }
   ],
   "source": [
    "%%time\n",
    "# Reading install payments table \n",
    "install_pay = pd.read_csv(\"../Home_Credit_Default_Risk/data/installments_payments.csv\")"
   ]
  },
  {
   "cell_type": "code",
   "execution_count": 8,
   "metadata": {},
   "outputs": [
    {
     "name": "stdout",
     "output_type": "stream",
     "text": [
      "CPU times: user 9.05 s, sys: 703 ms, total: 9.76 s\n",
      "Wall time: 9.35 s\n"
     ]
    }
   ],
   "source": [
    "%%time\n",
    "# Reading credit card balance table \n",
    "credit_card_balance = pd.read_csv(\"../Home_Credit_Default_Risk/data/credit_card_balance.csv\")"
   ]
  },
  {
   "cell_type": "markdown",
   "metadata": {},
   "source": [
    "###  <a id='tables'>Tables</a><br>  "
   ]
  },
  {
   "cell_type": "markdown",
   "metadata": {},
   "source": [
    "#### Pandas Profiling"
   ]
  },
  {
   "cell_type": "markdown",
   "metadata": {},
   "source": [
    "\"pandas_profiling\" library is used to take a quick look to each dataset. This package generates quantile and descriptive statistics reports for each columns, quite handy for EDA in limited times."
   ]
  },
  {
   "cell_type": "code",
   "execution_count": 11,
   "metadata": {
    "scrolled": true
   },
   "outputs": [],
   "source": [
    "import pandas_profiling"
   ]
  },
  {
   "cell_type": "markdown",
   "metadata": {},
   "source": [
    "###  <a id='application'>Application Table</a><br>  \n",
    "[Back to Contents](#contents)"
   ]
  },
  {
   "cell_type": "markdown",
   "metadata": {},
   "source": [
    "### Summary with Profile Report"
   ]
  },
  {
   "cell_type": "code",
   "execution_count": 1,
   "metadata": {
    "scrolled": true
   },
   "outputs": [],
   "source": [
    "#pandas_profiling.ProfileReport(application)"
   ]
  },
  {
   "cell_type": "markdown",
   "metadata": {},
   "source": [
    "### Checking Correlations with Target Variables"
   ]
  },
  {
   "cell_type": "code",
   "execution_count": 35,
   "metadata": {},
   "outputs": [
    {
     "data": {
      "text/plain": [
       "EXT_SOURCE_3    -0.178919\n",
       "EXT_SOURCE_2    -0.160472\n",
       "EXT_SOURCE_1    -0.155317\n",
       "DAYS_EMPLOYED   -0.044932\n",
       "FLOORSMAX_AVG   -0.044003\n",
       "Name: TARGET, dtype: float64"
      ]
     },
     "execution_count": 35,
     "metadata": {},
     "output_type": "execute_result"
    }
   ],
   "source": [
    "#Most positively correlated features with Target\n",
    "cor_app_tgt = application.corr()['TARGET'].sort_values()\n",
    "cor_app_tgt.head()"
   ]
  },
  {
   "cell_type": "code",
   "execution_count": 37,
   "metadata": {},
   "outputs": [
    {
     "data": {
      "text/plain": [
       "DAYS_ID_PUBLISH                0.051457\n",
       "DAYS_LAST_PHONE_CHANGE         0.055218\n",
       "REGION_RATING_CLIENT           0.058899\n",
       "REGION_RATING_CLIENT_W_CITY    0.060893\n",
       "DAYS_BIRTH                     0.078239\n",
       "Name: TARGET, dtype: float64"
      ]
     },
     "execution_count": 37,
     "metadata": {},
     "output_type": "execute_result"
    }
   ],
   "source": [
    "#Most negatively correlated features with Target\n",
    "cor_app_tgt.drop('TARGET', axis=0).tail()"
   ]
  },
  {
   "cell_type": "markdown",
   "metadata": {},
   "source": [
    "### Table Summary\n",
    "\n",
    "#### General\n",
    "* Described as main table, \"application\" table has 122 features (1 ID (primary key), 73 numerical , 16 categorical, 33 boolean) including \"TARGET\" variable \n",
    "* This table has customer personel (count of children,house,car,enquiries,occupation ...) and credit  features (annuities, credit amount, time of application..)\n",
    "* \"TARGET\" variable distribution shows that it's an unbalanced class problem ( %92 vs %8)\n",
    "* Number of enquiries to Credit Bureau about the client is presented with different time period in dataset.\n",
    "* No interest rate is given for loans\n",
    "* 3 Different Credit Scores provided from external sources are available in dataset (e.g. EXT_SOURCE_2). \n",
    "* \"CODE_GENDER\" has 4 XNA Value\n",
    "\n",
    "#### Missing Values\n",
    "* 67 columns has missing values\n",
    "* Multiple columns have +%50 rates of missing values. Most of them are about customer's home or car details.\n",
    "* Family details (no of children, has not any missing values )\n",
    "* Credit and income amounts have no missing values.\n",
    "\n",
    "#### Outliers\n",
    "* Credit amount distribution is highly skewed but no anomaly has been detected. (min :45K (230 entry), max: 4,050M (8 entry). Those are problably min and max credit limits.\n",
    "* Days Employed feature has negative values and 55374 entries are fixed with 365243 (1000 years).This may be flagged later.\n",
    "\n",
    "#### Correlations\n",
    "* Some of variables are highly correlated with each others. Most of them are normalized same feature (such as appartment size) normalized with differeent adjustment.\n",
    "* 3 Credit Scores (EXT_SOURCE) are negative correlated with target variables which means high credit score customers tend to  pay their credit better. They seem to be best feature to explain target variable.\n",
    "* Client's age (DAYS_BIRTH) is the most positevely correlated variable in the dataset. "
   ]
  },
  {
   "cell_type": "markdown",
   "metadata": {},
   "source": [
    "###  <a id='bureau'>Bureau Table</a><br>\n",
    "[Back to Contents](#contents)"
   ]
  },
  {
   "cell_type": "markdown",
   "metadata": {},
   "source": [
    "### Summary with Profile Report"
   ]
  },
  {
   "cell_type": "code",
   "execution_count": 2,
   "metadata": {},
   "outputs": [],
   "source": [
    "#pandas_profiling.ProfileReport(bureau)"
   ]
  },
  {
   "cell_type": "markdown",
   "metadata": {},
   "source": [
    "### Checking Correlations with Target Variables"
   ]
  },
  {
   "cell_type": "code",
   "execution_count": 135,
   "metadata": {},
   "outputs": [
    {
     "data": {
      "text/plain": [
       "DAYS_CREDIT              -0.002040\n",
       "DAYS_ENDDATE_FACT        -0.001633\n",
       "SK_ID_BUREAU             -0.001371\n",
       "AMT_CREDIT_MAX_OVERDUE   -0.000044\n",
       "CREDIT_DAY_OVERDUE       -0.000012\n",
       "Name: TARGET, dtype: float64"
      ]
     },
     "execution_count": 135,
     "metadata": {},
     "output_type": "execute_result"
    }
   ],
   "source": [
    "bureau.join(application[[\"SK_ID_CURR\", \"TARGET\"]], \n",
    "            on=\"SK_ID_CURR\", how=\"left\", lsuffix=\"left\")\\\n",
    "            .corr()['TARGET'].sort_values()\\\n",
    "            .drop(['TARGET', \"SK_ID_CURR\", \"SK_ID_CURRleft\"], axis=0).head()"
   ]
  },
  {
   "cell_type": "code",
   "execution_count": 136,
   "metadata": {},
   "outputs": [
    {
     "data": {
      "text/plain": [
       "DAYS_CREDIT_ENDDATE    0.000478\n",
       "AMT_CREDIT_SUM_DEBT    0.000823\n",
       "AMT_CREDIT_SUM         0.000918\n",
       "CNT_CREDIT_PROLONG     0.001294\n",
       "AMT_ANNUITY            0.002440\n",
       "Name: TARGET, dtype: float64"
      ]
     },
     "execution_count": 136,
     "metadata": {},
     "output_type": "execute_result"
    }
   ],
   "source": [
    "bureau.join(application[[\"SK_ID_CURR\", \"TARGET\"]],\n",
    "            on=\"SK_ID_CURR\", how=\"left\", lsuffix=\"left\")\\\n",
    "            .corr()['TARGET'].sort_values()\\\n",
    "            .drop(['TARGET', \"SK_ID_CURR\", \"SK_ID_CURRleft\"], axis=0).tail()"
   ]
  },
  {
   "cell_type": "markdown",
   "metadata": {},
   "source": [
    "### Table Summary\n",
    "\n",
    "#### General\n",
    "* All client's previous credits provided by other financial institutions that were reported to Credit Bureau.\n",
    "* Table has 17 features (2 ID,  12 numerical , 3 categorical)\n",
    "* \"AMT_ANNUITY\"  is the monthly payment (interest rate included). This is info at application time as some clients can change their annuity which you would see in the other tables (balance and payment tables)\n",
    "\n",
    "#### Missing Values\n",
    "* There is no missing value on this table.\n",
    "* 6 columns has missing values\n",
    "* DAYS_CREDIT_ENDDATE column has %37 rates of missing values which is the rate of open credits in the time of application.\n",
    "* \"AMT_ANNUITY\" feature has %71,5 missing value rate.\n",
    "\n",
    "#### Outliers\n",
    "*  \"AMT_ANNUITY\" has maximum value up to 118,5m\n",
    "\n",
    "#### Correlations\n",
    "\n",
    "* There is no significant  correlation between given features and \"TARGET\" variable."
   ]
  },
  {
   "cell_type": "markdown",
   "metadata": {},
   "source": [
    "###  <a id='bureau_balance'>Bureau Balance Table</a><br>  \n",
    "[Back to Contents](#contents)"
   ]
  },
  {
   "cell_type": "markdown",
   "metadata": {},
   "source": [
    "### Summary with Profile Report"
   ]
  },
  {
   "cell_type": "code",
   "execution_count": 3,
   "metadata": {},
   "outputs": [],
   "source": [
    "#pandas_profiling.ProfileReport(bureau_balance)"
   ]
  },
  {
   "cell_type": "markdown",
   "metadata": {},
   "source": [
    "### Table Summary\n",
    "\n",
    "#### General\n",
    "* Monthly balances of previous credits in Credit Bureau.\n",
    "* Table has 3 features (1 ID, 1 numerical , 1 categorical)\n",
    "\n",
    "\n",
    "#### Missing Values\n",
    "* This table has no missing values.\n",
    "\n",
    "\n",
    "#### Outliers\n",
    "* No outlier observed\n",
    "\n",
    "#### Correlations\n",
    "* Since there is one feature categorical column (\"STATUS\") and it's montly table we cannot find any correlation"
   ]
  },
  {
   "cell_type": "markdown",
   "metadata": {},
   "source": [
    "###  <a id='previous_application'>Previous Application Table</a><br>  \n",
    "[Back to Contents](#contents)"
   ]
  },
  {
   "cell_type": "markdown",
   "metadata": {},
   "source": [
    "### Summary with Profile Report"
   ]
  },
  {
   "cell_type": "code",
   "execution_count": 4,
   "metadata": {},
   "outputs": [],
   "source": [
    "#pandas_profiling.ProfileReport(previous_application)"
   ]
  },
  {
   "cell_type": "markdown",
   "metadata": {},
   "source": [
    "#### Checking Correlations with Target Variables"
   ]
  },
  {
   "cell_type": "code",
   "execution_count": 144,
   "metadata": {},
   "outputs": [
    {
     "data": {
      "text/plain": [
       "AMT_DOWN_PAYMENT            -0.002420\n",
       "NFLAG_LAST_APPL_IN_DAY      -0.002381\n",
       "NFLAG_INSURED_ON_APPROVAL   -0.002330\n",
       "AMT_GOODS_PRICE             -0.001557\n",
       "AMT_ANNUITY                 -0.001201\n",
       "Name: TARGET, dtype: float64"
      ]
     },
     "execution_count": 144,
     "metadata": {},
     "output_type": "execute_result"
    }
   ],
   "source": [
    "\n",
    "previous_application.join(application[[\"SK_ID_CURR\",\"TARGET\"]],\n",
    "                          on=\"SK_ID_CURR\", how=\"left\", lsuffix=\"left\")\\\n",
    "                          .corr()['TARGET'].sort_values()\\\n",
    "                          .drop(['TARGET', \"SK_ID_CURR\", \"SK_ID_CURRleft\"],\n",
    "                          axis=0).head()"
   ]
  },
  {
   "cell_type": "code",
   "execution_count": 145,
   "metadata": {
    "scrolled": true
   },
   "outputs": [
    {
     "data": {
      "text/plain": [
       "DAYS_TERMINATION           0.001293\n",
       "DAYS_LAST_DUE              0.001901\n",
       "DAYS_FIRST_DUE             0.002010\n",
       "HOUR_APPR_PROCESS_START    0.002229\n",
       "RATE_INTEREST_PRIMARY      0.004645\n",
       "Name: TARGET, dtype: float64"
      ]
     },
     "execution_count": 145,
     "metadata": {},
     "output_type": "execute_result"
    }
   ],
   "source": [
    "previous_application.join(application[[\"SK_ID_CURR\",\"TARGET\"]],\n",
    "                          on=\"SK_ID_CURR\", how=\"left\", lsuffix=\"left\").corr()\\\n",
    "                          ['TARGET'].sort_values()\\\n",
    "                          .drop(['TARGET', \"SK_ID_CURR\", \"SK_ID_CURRleft\"],\n",
    "                                axis=0).tail()"
   ]
  },
  {
   "cell_type": "markdown",
   "metadata": {},
   "source": [
    "### Table Summary\n",
    "\n",
    "#### General\n",
    "* All previous applications for loans of clients who have loans in application.There is one row for each previous application related to loans.\n",
    "* Table has 36 features (2 ID, 18 numerical , 16 categorical, 1 Boolean)\n",
    "* This table has interest rates.\n",
    "\n",
    "\n",
    "#### Missing Values\n",
    "* 12 columns has missing values\n",
    "* %96 of Interest Rates values are missing\n",
    "\n",
    "\n",
    "#### Outliers\n",
    "* AMT_CREDIT and AMT_APPLICATION has 6,9M limits which is quite higher then application table's.\n",
    "\n",
    "#### Correlations\n",
    "* As expected AMT_CREDIT is highly correlated with AMT_APPLICATION.\n",
    "* AMT_GOODS_PRICE is highly correlated with AMT_CREDIT which is also quite expected.\n",
    "* RATE_INTEREST_PRIMARY is most correlated feature with \"TARGET\" variable bu most of them is missing"
   ]
  },
  {
   "cell_type": "markdown",
   "metadata": {},
   "source": [
    "\n",
    "###  <a id='pos_cash_balance'>Pos Cash Balance Table</a><br>  \n",
    "[Back to Contents](#contents)"
   ]
  },
  {
   "cell_type": "markdown",
   "metadata": {},
   "source": [
    "### Summary with Profile Report"
   ]
  },
  {
   "cell_type": "code",
   "execution_count": 5,
   "metadata": {},
   "outputs": [],
   "source": [
    "#pandas_profiling.ProfileReport(POS_CASH_balance)"
   ]
  },
  {
   "cell_type": "markdown",
   "metadata": {},
   "source": [
    "### Table Summary\n",
    "\n",
    "#### General\n",
    "* Monthly balance snapshots of previous POS (point of sales) and cash loans that the applicant had.\n",
    "* Table has 8 features (2 ID, 5 numerical , 1 categorical)\n",
    "* We can allocate \"Day past dues\" and contact status during months for given loans in this table.\n",
    "\n",
    "\n",
    "#### Missing Values\n",
    "* 2 columns have %0,3 missing values.\n",
    "\n",
    "\n",
    "#### Outliers\n",
    "* No outlier observed\n",
    "\n",
    "#### Correlations\n",
    "* None"
   ]
  },
  {
   "cell_type": "markdown",
   "metadata": {},
   "source": [
    "###  <a id='install_payments'>Install Payments Table</a><br>\n",
    "[Back to Contents](#contents)"
   ]
  },
  {
   "cell_type": "markdown",
   "metadata": {},
   "source": [
    "#### Summary with Profile Report"
   ]
  },
  {
   "cell_type": "code",
   "execution_count": 6,
   "metadata": {
    "scrolled": true
   },
   "outputs": [],
   "source": [
    "#pandas_profiling.ProfileReport(install_pay)"
   ]
  },
  {
   "cell_type": "markdown",
   "metadata": {},
   "source": [
    "#### Total Installement and Payed Amounts"
   ]
  },
  {
   "cell_type": "markdown",
   "metadata": {},
   "source": [
    "Since it's a monthly tables  to be able to calculate feature correlation with \"TARGET\" variable we will group by sum of payments and installement of previous loans and check if Total amounts are correlated with \"TARGET\""
   ]
  },
  {
   "cell_type": "code",
   "execution_count": 103,
   "metadata": {},
   "outputs": [],
   "source": [
    "install_pay_sum = install_pay.groupby(['SK_ID_PREV', 'SK_ID_CURR'])\\\n",
    "                            [\"AMT_INSTALMENT\", \"AMT_PAYMENT\"]\\\n",
    "                            .apply(lambda x : x.sum())\n",
    "\n",
    "install_pay_sum.join(application[[\"SK_ID_CURR\", \"TARGET\"]], on=\"SK_ID_CURR\",\n",
    "                     how=\"left\", lsuffix=\"left\")\\\n",
    "                     .corr()['TARGET'].sort_values()\\\n",
    "                     .drop(['TARGET', \"SK_ID_CURR\"],axis=0).head()"
   ]
  },
  {
   "cell_type": "markdown",
   "metadata": {},
   "source": [
    "#### Maximum installement number"
   ]
  },
  {
   "cell_type": "code",
   "execution_count": 125,
   "metadata": {},
   "outputs": [
    {
     "data": {
      "text/plain": [
       "NUM_INSTALMENT_NUMBER   -0.000751\n",
       "Name: TARGET, dtype: float64"
      ]
     },
     "execution_count": 125,
     "metadata": {},
     "output_type": "execute_result"
    }
   ],
   "source": [
    "#Taking last number of installement showing how many installement are made on previous applications.\n",
    "qty_payments = install_pay[['SK_ID_CURR', 'SK_ID_PREV', 'NUM_INSTALMENT_NUMBER']]\\\n",
    "                          .groupby(['SK_ID_CURR', 'SK_ID_PREV'], as_index=False)\\\n",
    "                          .agg({'NUM_INSTALMENT_NUMBER':'max'})\n",
    "qty_payments.join(application[[\"SK_ID_CURR\", \"TARGET\"]],\n",
    "                  on=\"SK_ID_CURR\", how=\"left\", lsuffix=\"left\")\\\n",
    "                  .corr()['TARGET'].sort_values()\\\n",
    "                  .drop(['TARGET', \"SK_ID_CURR\", \"SK_ID_CURRleft\", \"SK_ID_PREV\"]\n",
    "                        ,axis=0).head()"
   ]
  },
  {
   "cell_type": "markdown",
   "metadata": {},
   "source": [
    "### Table Summary\n",
    "\n",
    "#### General\n",
    "* Repayment history for the previously disbursed credits related to the loans. OThere is a) one row for every payment that was made plus b) one row each for missed payment.\n",
    "* Table has 8 features (2 ID,  6 numerical , 16 categorical)\n",
    "* \"NUM_INSTALMENT_VERSION\" columns gives rank of endorsement; change of installment version from month to month signifies that some parameter of payment calendar has changed \n",
    "\n",
    "\n",
    "#### Missing Values\n",
    "* There is no missing value on this table.\n",
    "\n",
    "\n",
    "#### Outliers\n",
    "* Installements and credit payments has some outliers (up to 3.200000). \n",
    "\n",
    "#### Correlations\n",
    "* Naturally \"AMT_PAYMENT\" is highly correlated with \"AMT_INSTALMENT\", we may create new features using  those features.\n",
    "* There is no significant  correlation between Total Installements, Payed Amounts and \"TARGET\" variable\n",
    "* There is no significant  correlation between installement count and \"TARGET\" variable "
   ]
  },
  {
   "cell_type": "markdown",
   "metadata": {},
   "source": [
    "#### Checking outlier"
   ]
  },
  {
   "cell_type": "code",
   "execution_count": 83,
   "metadata": {},
   "outputs": [
    {
     "data": {
      "text/html": [
       "<div>\n",
       "<style scoped>\n",
       "    .dataframe tbody tr th:only-of-type {\n",
       "        vertical-align: middle;\n",
       "    }\n",
       "\n",
       "    .dataframe tbody tr th {\n",
       "        vertical-align: top;\n",
       "    }\n",
       "\n",
       "    .dataframe thead th {\n",
       "        text-align: right;\n",
       "    }\n",
       "</style>\n",
       "<table border=\"1\" class=\"dataframe\">\n",
       "  <thead>\n",
       "    <tr style=\"text-align: right;\">\n",
       "      <th></th>\n",
       "      <th>SK_ID_PREV</th>\n",
       "      <th>SK_ID_CURR</th>\n",
       "      <th>NUM_INSTALMENT_VERSION</th>\n",
       "      <th>NUM_INSTALMENT_NUMBER</th>\n",
       "      <th>DAYS_INSTALMENT</th>\n",
       "      <th>DAYS_ENTRY_PAYMENT</th>\n",
       "      <th>AMT_INSTALMENT</th>\n",
       "      <th>AMT_PAYMENT</th>\n",
       "    </tr>\n",
       "  </thead>\n",
       "  <tbody>\n",
       "    <tr>\n",
       "      <th>9119046</th>\n",
       "      <td>1562725</td>\n",
       "      <td>399624</td>\n",
       "      <td>2.0</td>\n",
       "      <td>1</td>\n",
       "      <td>-770.0</td>\n",
       "      <td>-787.0</td>\n",
       "      <td>3202061.805</td>\n",
       "      <td>3202061.805</td>\n",
       "    </tr>\n",
       "  </tbody>\n",
       "</table>\n",
       "</div>"
      ],
      "text/plain": [
       "         SK_ID_PREV  SK_ID_CURR  NUM_INSTALMENT_VERSION  \\\n",
       "9119046     1562725      399624                     2.0   \n",
       "\n",
       "         NUM_INSTALMENT_NUMBER  DAYS_INSTALMENT  DAYS_ENTRY_PAYMENT  \\\n",
       "9119046                      1           -770.0              -787.0   \n",
       "\n",
       "         AMT_INSTALMENT  AMT_PAYMENT  \n",
       "9119046     3202061.805  3202061.805  "
      ]
     },
     "execution_count": 83,
     "metadata": {},
     "output_type": "execute_result"
    }
   ],
   "source": [
    "install_pay[install_pay[\"SK_ID_PREV\"]==1562725]"
   ]
  },
  {
   "cell_type": "markdown",
   "metadata": {},
   "source": [
    "3202061805 seems to much for an installement but it's a single installement for a loan. Since 4.050000 is loan limit, this amount is acceptable"
   ]
  },
  {
   "cell_type": "markdown",
   "metadata": {},
   "source": [
    "###  <a id='credit_card_balance'>Credit Card Balance Table</a><br>  \n",
    "[Back to Contents](#contents)"
   ]
  },
  {
   "cell_type": "markdown",
   "metadata": {},
   "source": [
    "#### Summary with Profile Report"
   ]
  },
  {
   "cell_type": "code",
   "execution_count": 7,
   "metadata": {},
   "outputs": [],
   "source": [
    "#pandas_profiling.ProfileReport(credit_card_balance)"
   ]
  },
  {
   "cell_type": "markdown",
   "metadata": {},
   "source": [
    "### Table Summary\n",
    "\n",
    "#### General\n",
    "* Monthly balance snapshots of previous credit cards that the applicant has with Home Credit. This table has one row for each month of history of every previous credit in Home Credit (consumer credit and cash loans)\n",
    "* Table has 23 features (2 ID, 20 numerical , 1 categorical)\n",
    "\n",
    "\n",
    "#### Missing Values\n",
    "* 8 columns have  missing values. Those columns are payment and drawning column which means there might be no payment or drawings.\n",
    "\n",
    "\n",
    "#### Outliers\n",
    "* No outlier observed\n",
    "\n",
    "#### Correlations\n",
    "* AMT_PAYMENT_TOTAL_CURRENT is highly correlated with AMT_PAYMENT_CURRENT as expected. For most month those have same values."
   ]
  },
  {
   "cell_type": "markdown",
   "metadata": {},
   "source": [
    "## <a id='f_e'>Feature Engineering</a><br>  \n",
    "[Back to Contents](#contents)"
   ]
  },
  {
   "cell_type": "markdown",
   "metadata": {},
   "source": [
    "### <a id='existing_feature_selection'>Existing Feature Selection</a><br>  \n",
    "\n"
   ]
  },
  {
   "cell_type": "markdown",
   "metadata": {},
   "source": [
    "To select raw features from static table (application), we will use feature selection process using target permutation tests actual importance significance against the distribution of feature importances when fitted to noise (shuffled target). \n",
    "\n",
    "Reference : \n",
    "[Feature Selection with Null Importances](https://www.kaggle.com/ogrellier/feature-selection-with-null-importances)."
   ]
  },
  {
   "cell_type": "markdown",
   "metadata": {},
   "source": [
    "### <a id='existing_feature_selection_application'>Application Table Feature Selection</a>  \n",
    "\n"
   ]
  },
  {
   "cell_type": "code",
   "execution_count": 43,
   "metadata": {},
   "outputs": [],
   "source": [
    "from sklearn.metrics import roc_auc_score\n",
    "from sklearn.model_selection import KFold\n",
    "import time\n",
    "from lightgbm import LGBMClassifier\n",
    "import lightgbm as lgb\n",
    "\n",
    "import gc\n",
    "gc.enable()"
   ]
  },
  {
   "cell_type": "code",
   "execution_count": 44,
   "metadata": {},
   "outputs": [],
   "source": [
    "data=application.copy()\n",
    "id_target=['TARGET', 'SK_ID_CURR',\"test\"]\n",
    "\n",
    "categorical_feats = [f for f in data.columns if data[f].dtype == 'object']\n",
    "\n",
    "for f_ in categorical_feats:\n",
    "    data[f_], _ = pd.factorize(data[f_])\n",
    "    # Set feature type as categorical\n",
    "    data[f_] = data[f_].astype('category')    "
   ]
  },
  {
   "cell_type": "markdown",
   "metadata": {},
   "source": [
    "Defining a function giving feature importance of datasets using LightGBM feature_importance function"
   ]
  },
  {
   "cell_type": "code",
   "execution_count": 47,
   "metadata": {},
   "outputs": [],
   "source": [
    "def get_feature_importances(data, shuffle, seed=None, id_target_=id_target):\n",
    "    # Gather real features\n",
    "    categorical_feats = [f for f in data.columns if data[f].dtype == 'object']\n",
    "    \n",
    "    for f_ in categorical_feats:\n",
    "        data[f_], _ = pd.factorize(data[f_])\n",
    "        # Set feature type as categorical\n",
    "        data[f_] = data[f_].astype('category')\n",
    "      \n",
    "    train_features = [f for f in data if f not in id_target]\n",
    "    # Go over fold and keep track of CV score (train and valid) and feature importances\n",
    "    \n",
    "    # Shuffle target if required\n",
    "    y = data['TARGET'].copy()\n",
    "    if shuffle:\n",
    "        # Here you could as well use a binomial distribution\n",
    "        y = data['TARGET'].copy().sample(frac=1)\n",
    "    \n",
    "    # Fit LightGBM in RF mode, yes it's quicker than sklearn RandomForest\n",
    "    dtrain = lgb.Dataset(data[train_features], y,\n",
    "                         free_raw_data=False, silent=True)\n",
    "    lgb_params = {\n",
    "        'objective': 'binary',\n",
    "        'boosting_type': 'rf',\n",
    "        'subsample': 0.623,\n",
    "        'colsample_bytree': 0.7,\n",
    "        'num_leaves': 127,\n",
    "        'max_depth': 8,\n",
    "        'seed': seed,\n",
    "        'bagging_freq': 1,\n",
    "        'n_jobs': 4\n",
    "    }\n",
    "    \n",
    "    # Fit the model\n",
    "    clf = lgb.train(params=lgb_params, train_set=dtrain, num_boost_round=200,\n",
    "                    categorical_feature=categorical_feats)\n",
    "\n",
    "    # Get feature importances\n",
    "    imp_df = pd.DataFrame()\n",
    "    imp_df[\"feature\"] = list(train_features)\n",
    "    imp_df[\"importance_gain\"] = clf.feature_importance(importance_type='gain')\n",
    "    imp_df[\"importance_split\"] = clf.feature_importance(importance_type='split')\n",
    "    imp_df['trn_score'] = roc_auc_score(y, clf.predict(data[train_features]))\n",
    "    \n",
    "    return imp_df\n"
   ]
  },
  {
   "cell_type": "code",
   "execution_count": 48,
   "metadata": {},
   "outputs": [],
   "source": [
    "categorical_feats = [f for f in data.columns if data[f].dtype == 'object']\n",
    "\n",
    "categorical_feats\n",
    "for f_ in categorical_feats:\n",
    "    data[f_], _ = pd.factorize(data[f_])\n",
    "    # Set feature type as categorical\n",
    "    data[f_] = data[f_].astype('category')"
   ]
  },
  {
   "cell_type": "markdown",
   "metadata": {},
   "source": [
    "Getting feature importance dataset using all rows"
   ]
  },
  {
   "cell_type": "code",
   "execution_count": 37,
   "metadata": {
    "scrolled": true
   },
   "outputs": [
    {
     "name": "stdout",
     "output_type": "stream",
     "text": [
      "CPU times: user 1min 43s, sys: 2.57 s, total: 1min 46s\n",
      "Wall time: 33.3 s\n"
     ]
    }
   ],
   "source": [
    "%%time\n",
    "actual_imp_df = get_feature_importances(data, shuffle=False, seed=1)"
   ]
  },
  {
   "cell_type": "markdown",
   "metadata": {},
   "source": [
    "Create multiple shuffled importance dataset to make comparaison and decrease randomness chances"
   ]
  },
  {
   "cell_type": "code",
   "execution_count": 22,
   "metadata": {},
   "outputs": [
    {
     "name": "stdout",
     "output_type": "stream",
     "text": [
      "CPU times: user 9min 34s, sys: 17.4 s, total: 9min 51s\n",
      "Wall time: 2min 42s\n"
     ]
    }
   ],
   "source": [
    "%%time\n",
    "null_imp_df = pd.DataFrame()\n",
    "nb_runs = 8\n",
    "dsp = ''\n",
    "for i in range(nb_runs):\n",
    "    # Get current run importances\n",
    "    imp_df = get_feature_importances(data=application, shuffle=True)\n",
    "    imp_df['run'] = i + 1 \n",
    "    # Concat the latest importances with the old ones\n",
    "    null_imp_df = pd.concat([null_imp_df, imp_df], axis=0)\n"
   ]
  },
  {
   "cell_type": "markdown",
   "metadata": {},
   "source": [
    "Getting feature \"importance gain\" and \"importance split\" score dataframes for both null and actual importance (not shuffled)."
   ]
  },
  {
   "cell_type": "code",
   "execution_count": 23,
   "metadata": {},
   "outputs": [],
   "source": [
    "feature_scores = []\n",
    "for _f in actual_imp_df['feature'].unique():\n",
    "    f_null_imps_gain = null_imp_df.loc[null_imp_df['feature'] == _f,\n",
    "                                       'importance_gain'].values\n",
    "    \n",
    "    f_act_imps_gain = actual_imp_df.loc[actual_imp_df['feature'] == _f,\n",
    "                                        'importance_gain'].mean()\n",
    "    \n",
    "    gain_score = np.log(1e-10 + f_act_imps_gain /\n",
    "                        (1 + np.percentile(f_null_imps_gain, 75)))  # Avoid didvide by zero\n",
    "    \n",
    "    f_null_imps_split = null_imp_df.loc[null_imp_df['feature'] == _f,\n",
    "                                        'importance_split'].values\n",
    "    \n",
    "    f_act_imps_split = actual_imp_df.loc[actual_imp_df['feature'] == _f,\n",
    "                                         'importance_split'].mean()\n",
    "    \n",
    "    split_score = np.log(1e-10 + f_act_imps_split /\n",
    "                         (1 + np.percentile(f_null_imps_split, 75)))  # Avoid didvide by zero\n",
    "    \n",
    "    feature_scores.append((_f, split_score, gain_score))\n",
    "\n",
    "scores_df = pd.DataFrame(feature_scores,\n",
    "                         columns=['feature', 'split_score', 'gain_score'])"
   ]
  },
  {
   "cell_type": "code",
   "execution_count": 24,
   "metadata": {
    "scrolled": true
   },
   "outputs": [
    {
     "data": {
      "image/png": "[encoded data removed]",
      "text/plain": [
       "<Figure size 1152x1152 with 2 Axes>"
      ]
     },
     "metadata": {},
     "output_type": "display_data"
    }
   ],
   "source": [
    "correlation_scores = []\n",
    "for _f in actual_imp_df['feature'].unique():\n",
    "    f_null_imps = null_imp_df.loc[null_imp_df['feature'] == _f,\n",
    "                                  'importance_gain'].values\n",
    "    \n",
    "    f_act_imps = actual_imp_df.loc[actual_imp_df['feature'] == _f,\n",
    "                                   'importance_gain'].values\n",
    "    \n",
    "    gain_score = 100 * (f_null_imps < np.percentile(f_act_imps, 25))\\\n",
    "                 .sum() / f_null_imps.size\n",
    "    \n",
    "    f_null_imps = null_imp_df.loc[null_imp_df['feature'] == _f,\n",
    "                                  'importance_split'].values\n",
    "    \n",
    "    f_act_imps = actual_imp_df.loc[actual_imp_df['feature'] == _f,\n",
    "                                   'importance_split'].values\n",
    "    \n",
    "    split_score = 100 * (f_null_imps < np.percentile(f_act_imps, 25))\\\n",
    "                  .sum() / f_null_imps.size\n",
    "    \n",
    "    correlation_scores.append((_f, split_score, gain_score))\n",
    "\n",
    "corr_scores_df = pd.DataFrame(correlation_scores,\n",
    "                              columns=['feature', 'split_score', 'gain_score'])\n",
    "\n",
    "fig = plt.figure(figsize=(16, 16))\n",
    "gs = gridspec.GridSpec(1, 2)\n",
    "# Plot Split importances\n",
    "ax = plt.subplot(gs[0, 0])\n",
    "sns.barplot(x='split_score', y='feature',\n",
    "            data=corr_scores_df.sort_values('split_score',\n",
    "                                            ascending=False).iloc[0:70], ax=ax)\n",
    "\n",
    "ax.set_title('Feature scores wrt split importances',\n",
    "             fontweight='bold', fontsize=14)\n",
    "\n",
    "# Plot Gain importances\n",
    "ax = plt.subplot(gs[0, 1])\n",
    "sns.barplot(x='gain_score', y='feature',\n",
    "            data=corr_scores_df.sort_values('gain_score',\n",
    "                                            ascending=False).iloc[0:70], ax=ax)\n",
    "\n",
    "ax.set_title('Feature scores wrt gain importances',\n",
    "             fontweight='bold', fontsize=14)\n",
    "\n",
    "plt.tight_layout()\n",
    "\n",
    "plt.suptitle(\"Features' split and gain scores\",\n",
    "             fontweight='bold', fontsize=16)\n",
    "\n",
    "fig.subplots_adjust(top=0.93)"
   ]
  },
  {
   "cell_type": "code",
   "execution_count": 32,
   "metadata": {},
   "outputs": [
    {
     "name": "stdout",
     "output_type": "stream",
     "text": [
      "Results for threshold   0\n",
      "\t SPLIT : 0.756421 +/- 0.001794\n",
      "\t GAIN  : 0.756421 +/- 0.001794\n",
      "Results for threshold  10\n",
      "\t SPLIT : 0.756286 +/- 0.001043\n",
      "\t GAIN  : 0.756073 +/- 0.001235\n",
      "Results for threshold  40\n",
      "\t SPLIT : 0.755614 +/- 0.001448\n",
      "\t GAIN  : 0.755525 +/- 0.001039\n",
      "Results for threshold  60\n",
      "\t SPLIT : 0.756132 +/- 0.001524\n",
      "\t GAIN  : 0.755536 +/- 0.001591\n"
     ]
    }
   ],
   "source": [
    "def score_feature_selection(df=None, train_features=None,\n",
    "                            cat_feats=None, target=None):\n",
    "    # Fit LightGBM \n",
    "    dtrain = lgb.Dataset(df[train_features], target,\n",
    "                         free_raw_data=False, silent=True)\n",
    "    \n",
    "    lgb_params = {\n",
    "        'objective': 'binary',\n",
    "        'boosting_type': 'gbdt',\n",
    "        'learning_rate': .1,\n",
    "        'subsample': 0.8,\n",
    "        'colsample_bytree': 0.8,\n",
    "        'num_leaves': 31,\n",
    "        'max_depth': -1,\n",
    "        'seed': 13,\n",
    "        'n_jobs': 4,\n",
    "        'min_split_gain': .00001,\n",
    "        'reg_alpha': .00001,\n",
    "        'reg_lambda': .00001,\n",
    "        'metric': 'auc'\n",
    "    }\n",
    "    \n",
    "    # Fit the model\n",
    "    hist = lgb.cv(\n",
    "        params=lgb_params, \n",
    "        train_set=dtrain, \n",
    "        num_boost_round=2000,\n",
    "        categorical_feature=cat_feats,\n",
    "        nfold=5,\n",
    "        stratified=True,\n",
    "        shuffle=True,\n",
    "        early_stopping_rounds=50,\n",
    "        verbose_eval=0,\n",
    "        seed=17\n",
    "    )\n",
    "    # Return the last mean / std values \n",
    "    return hist['auc-mean'][-1], hist['auc-stdv'][-1]\n",
    "\n",
    "\n",
    "for threshold in [0, 10, 40,60]:\n",
    "    split_feats = [_f for _f, _score, _ in correlation_scores\n",
    "                   if _score >= threshold]\n",
    "    \n",
    "    split_cat_feats = [_f for _f, _score, _ in correlation_scores\n",
    "                       if (_score >= threshold) & (_f in categorical_feats)]\n",
    "    \n",
    "    gain_feats = [_f for _f, _, _score in correlation_scores\n",
    "                  if _score >= threshold]\n",
    "\n",
    "    gain_cat_feats = [_f for _f, _, _score in correlation_scores if\n",
    "                      (_score >= threshold) & (_f in categorical_feats)]\n",
    "                                                                                             \n",
    "    print('Results for threshold %3d' % threshold)\n",
    "    split_results = score_feature_selection(df=data,\n",
    "                                            train_features=split_feats,\n",
    "                                            cat_feats=split_cat_feats,\n",
    "                                            target=data['TARGET'])\n",
    "    \n",
    "    print('\\t SPLIT : %.6f +/- %.6f' % (split_results[0], split_results[1]))\n",
    "    \n",
    "    gain_results = score_feature_selection(df=data, train_features=gain_feats,\n",
    "                                           cat_feats=gain_cat_feats,\n",
    "                                           target=data['TARGET'])\n",
    "    \n",
    "    print('\\t GAIN  : %.6f +/- %.6f' % (gain_results[0], gain_results[1]))\n"
   ]
  },
  {
   "cell_type": "markdown",
   "metadata": {},
   "source": [
    "We can use 60 threshold to select features from application table."
   ]
  },
  {
   "cell_type": "code",
   "execution_count": 67,
   "metadata": {},
   "outputs": [
    {
     "data": {
      "text/plain": [
       "35"
      ]
     },
     "execution_count": 67,
     "metadata": {},
     "output_type": "execute_result"
    }
   ],
   "source": [
    "split_feats = [_f for _f, _score, _ in correlation_scores if _score >= 60]\n",
    "len(split_feats)"
   ]
  },
  {
   "cell_type": "code",
   "execution_count": 68,
   "metadata": {},
   "outputs": [],
   "source": [
    "id_target = ['SK_ID_CURR'] #to add test data set with selected features"
   ]
  },
  {
   "cell_type": "markdown",
   "metadata": {},
   "source": [
    "#### Creating Test Model"
   ]
  },
  {
   "cell_type": "code",
   "execution_count": 69,
   "metadata": {},
   "outputs": [],
   "source": [
    "split_feats.extend(id_target)"
   ]
  },
  {
   "cell_type": "code",
   "execution_count": 70,
   "metadata": {},
   "outputs": [],
   "source": [
    "test_model = test[test.columns.intersection(split_feats)]"
   ]
  },
  {
   "cell_type": "code",
   "execution_count": 71,
   "metadata": {},
   "outputs": [],
   "source": [
    "# Adittionally add \"TARGET\" variable to train feature dataset\n",
    "id_target_2=['TARGET']"
   ]
  },
  {
   "cell_type": "code",
   "execution_count": 72,
   "metadata": {},
   "outputs": [],
   "source": [
    "split_feats.extend(id_target_2)"
   ]
  },
  {
   "cell_type": "code",
   "execution_count": 73,
   "metadata": {},
   "outputs": [],
   "source": [
    "#creating application table model with selected features only \n",
    "application_model = application[application.columns.intersection(split_feats)]"
   ]
  },
  {
   "cell_type": "markdown",
   "metadata": {},
   "source": [
    "### <a id='new_featues'>New Feature Creation</a><br>  \n",
    "\n",
    "[Back to Contents](#contents)"
   ]
  },
  {
   "cell_type": "markdown",
   "metadata": {},
   "source": [
    "Since tables (other than Application Table) has many entry for a single SK_ID_CURR (one to many relationship with Application Table ) we will take max and mean values of features.\n",
    "\n",
    "\n",
    "Reference:[Fork_of_ForK_LightGBM_with_Simple_Features](\"https://www.kaggle.com/poohtls/fork-of-fork-lightgbm-with-simple-features/code\")\n",
    "\n",
    "Than we will create new features for tables.\n"
   ]
  },
  {
   "cell_type": "markdown",
   "metadata": {},
   "source": [
    "### <a id='new_featues_application'>Application Table New Feature Creation</a><br>  \n",
    "\n",
    "[Back to Contents](#contents)\n"
   ]
  },
  {
   "cell_type": "markdown",
   "metadata": {},
   "source": [
    "We will add new features for application test dataset and application train dataset (application_model)"
   ]
  },
  {
   "cell_type": "markdown",
   "metadata": {},
   "source": [
    "#### New Credit to Annuity Ratio\n",
    "It's not interest rate but gives an idea"
   ]
  },
  {
   "cell_type": "code",
   "execution_count": 74,
   "metadata": {},
   "outputs": [],
   "source": [
    "application_model['NEW_CREDIT_TO_ANNUITY_RATIO'] = application_model['AMT_CREDIT'] / application_model['AMT_ANNUITY']\n",
    "test_model['NEW_CREDIT_TO_ANNUITY_RATIO'] = application_model['AMT_CREDIT'] / application_model['AMT_ANNUITY']\n"
   ]
  },
  {
   "cell_type": "markdown",
   "metadata": {},
   "source": [
    "#### Income Per Child"
   ]
  },
  {
   "cell_type": "code",
   "execution_count": 75,
   "metadata": {},
   "outputs": [],
   "source": [
    "application['NEW_INC_PER_CHLD'] = application['AMT_INCOME_TOTAL'] / (1 + application['CNT_CHILDREN'])\n",
    "test['NEW_INC_PER_CHLD'] = application['AMT_INCOME_TOTAL'] / (1 + application['CNT_CHILDREN'])\n"
   ]
  },
  {
   "cell_type": "code",
   "execution_count": 76,
   "metadata": {},
   "outputs": [],
   "source": [
    "NEW_INC_PER_CHLD=application[['SK_ID_CURR','NEW_INC_PER_CHLD']]\n",
    "\n",
    "application_model= application_model.merge(NEW_INC_PER_CHLD,\n",
    "                                           on = ['SK_ID_CURR'], how = 'left')\n",
    "del NEW_INC_PER_CHLD"
   ]
  },
  {
   "cell_type": "code",
   "execution_count": 77,
   "metadata": {},
   "outputs": [],
   "source": [
    "NEW_INC_PER_CHLD=test[['SK_ID_CURR','NEW_INC_PER_CHLD']]\n",
    "\n",
    "test_model= test_model.merge(NEW_INC_PER_CHLD, on = ['SK_ID_CURR'], how = 'left')\n",
    "del NEW_INC_PER_CHLD"
   ]
  },
  {
   "cell_type": "markdown",
   "metadata": {},
   "source": [
    "#### Organisation Median Income"
   ]
  },
  {
   "cell_type": "code",
   "execution_count": 78,
   "metadata": {},
   "outputs": [],
   "source": [
    "income_by_org = application[['AMT_INCOME_TOTAL','ORGANIZATION_TYPE']]\\\n",
    "                           .groupby('ORGANIZATION_TYPE').median()\\\n",
    "                           ['AMT_INCOME_TOTAL']\n",
    "\n",
    "application_model['NEW_INC_BY_ORG'] = application_model['ORGANIZATION_TYPE']\\\n",
    "                                                       .map(income_by_org)\n",
    "\n",
    "test_model['NEW_INC_BY_ORG'] = test_model['ORGANIZATION_TYPE'].map(income_by_org)\n",
    "del income_by_org"
   ]
  },
  {
   "cell_type": "markdown",
   "metadata": {},
   "source": [
    "#### External Source Feature\n",
    "\n",
    "Since Best raw parameters on application table is External Sources, creating new parameter using those may help the model"
   ]
  },
  {
   "cell_type": "code",
   "execution_count": 79,
   "metadata": {},
   "outputs": [],
   "source": [
    "application_model['NEW_EXT_SOURCE'] = application_model['EXT_SOURCE_1'] * application_model['EXT_SOURCE_2'] * application_model['EXT_SOURCE_3']\n",
    "test_model['NEW_EXT_SOURCE'] = test_model['EXT_SOURCE_1'] * test_model['EXT_SOURCE_2'] * test_model['EXT_SOURCE_3']"
   ]
  },
  {
   "cell_type": "markdown",
   "metadata": {},
   "source": [
    "#### Credit to Income Ratio"
   ]
  },
  {
   "cell_type": "code",
   "execution_count": 80,
   "metadata": {},
   "outputs": [],
   "source": [
    "application['NEW_CREDIT_TO_INCOME_RATIO'] = application['AMT_CREDIT'] / application['AMT_INCOME_TOTAL']\n",
    "NEW_CREDIT_TO_INCOME_RATIO = application[['SK_ID_CURR','NEW_CREDIT_TO_INCOME_RATIO']]\n",
    "\n",
    "application_model = application_model.merge(NEW_CREDIT_TO_INCOME_RATIO,\n",
    "                                            on = ['SK_ID_CURR'], how = 'left')\n",
    "del NEW_CREDIT_TO_INCOME_RATIO"
   ]
  },
  {
   "cell_type": "code",
   "execution_count": 81,
   "metadata": {},
   "outputs": [],
   "source": [
    "test['NEW_CREDIT_TO_INCOME_RATIO'] = test['AMT_CREDIT'] / test['AMT_INCOME_TOTAL']\n",
    "NEW_CREDIT_TO_INCOME_RATIO=test[['SK_ID_CURR', 'NEW_CREDIT_TO_INCOME_RATIO']]\n",
    "\n",
    "test_model= test_model.merge(NEW_CREDIT_TO_INCOME_RATIO,\n",
    "                             on = ['SK_ID_CURR'], how = 'left')\n",
    "del NEW_CREDIT_TO_INCOME_RATIO"
   ]
  },
  {
   "cell_type": "markdown",
   "metadata": {},
   "source": [
    "### <a id='new_featues_bureau'>Bureau and Bureau Balance Table New Feature Creation</a><br>  \n",
    "\n",
    "[Back to Contents](#contents)\n"
   ]
  },
  {
   "cell_type": "code",
   "execution_count": 82,
   "metadata": {},
   "outputs": [],
   "source": [
    "# one_hot_encoder for categorical values\n",
    "def one_hot_encoder(df, nan_as_category=True):\n",
    "    original_columns = list(df.columns)\n",
    "    categorical_columns = [col for col in df.columns if df[col].dtype == 'object']\n",
    "    df = pd.get_dummies(df, columns= categorical_columns,\n",
    "                        dummy_na= nan_as_category)\n",
    "    new_columns = [c for c in df.columns if c not in original_columns]\n",
    "    return df, new_columns"
   ]
  },
  {
   "cell_type": "markdown",
   "metadata": {},
   "source": [
    "#### Creating Simple Calculated Features from Present Features"
   ]
  },
  {
   "cell_type": "code",
   "execution_count": 83,
   "metadata": {},
   "outputs": [],
   "source": [
    "bureau_model = bureau.copy(deep=True)\n",
    "bb_model = bureau_balance.copy(deep=True)"
   ]
  },
  {
   "cell_type": "code",
   "execution_count": 84,
   "metadata": {},
   "outputs": [],
   "source": [
    "bb_model, bb_model_cat = one_hot_encoder(bb_model)\n",
    "bureau_model, bureau_model_cat = one_hot_encoder(bureau_model)"
   ]
  },
  {
   "cell_type": "code",
   "execution_count": 85,
   "metadata": {},
   "outputs": [],
   "source": [
    "bb_model_aggregations = {'MONTHS_BALANCE': ['min', 'max', 'size']}\n",
    "for col in bb_model_cat:\n",
    "    bb_model_aggregations[col] = ['mean']\n",
    "bb_model_agg = bb_model.groupby('SK_ID_BUREAU').agg(bb_model_aggregations)\n",
    "bb_model_agg.columns = pd.Index([e[0] + \"_\" + e[1].upper() for e in bb_model_agg.columns.tolist()])\n",
    "bureau_model = bureau_model.join(bb_model_agg, how='left', on='SK_ID_BUREAU')\n",
    "bureau_model.drop(['SK_ID_BUREAU'], axis=1, inplace= True)\n"
   ]
  },
  {
   "cell_type": "markdown",
   "metadata": {},
   "source": [
    "Creating aggregations for extra features"
   ]
  },
  {
   "cell_type": "code",
   "execution_count": 86,
   "metadata": {},
   "outputs": [
    {
     "name": "stdout",
     "output_type": "stream",
     "text": [
      "CPU times: user 8.38 s, sys: 3.96 s, total: 12.3 s\n",
      "Wall time: 8.33 s\n"
     ]
    }
   ],
   "source": [
    "%%time\n",
    "num_aggregations = {\n",
    "        'DAYS_CREDIT': [ 'mean', 'var'],\n",
    "        'DAYS_CREDIT_ENDDATE': [ 'mean'],\n",
    "        'DAYS_CREDIT_UPDATE': ['mean'],\n",
    "        'CREDIT_DAY_OVERDUE': ['mean'],\n",
    "        'AMT_CREDIT_MAX_OVERDUE': ['mean'],\n",
    "        'AMT_CREDIT_SUM': [ 'mean', 'sum'],\n",
    "        'AMT_CREDIT_SUM_DEBT': [ 'mean', 'sum'],\n",
    "        'AMT_CREDIT_SUM_OVERDUE': ['mean'],\n",
    "        'AMT_CREDIT_SUM_LIMIT': ['mean', 'sum'],\n",
    "        'AMT_ANNUITY': ['max', 'mean'],\n",
    "        'CNT_CREDIT_PROLONG': ['sum'],\n",
    "        'MONTHS_BALANCE_MIN': ['min'],\n",
    "        'MONTHS_BALANCE_MAX': ['max'],\n",
    "        'MONTHS_BALANCE_SIZE': ['mean', 'sum']\n",
    "    }\n",
    "# Bureau and bureau_balance categorical features\n",
    "cat_aggregations = {}\n",
    "for cat in bureau_model_cat: cat_aggregations[cat] = ['mean']\n",
    "for cat in bb_model_cat: cat_aggregations[cat + \"_MEAN\"] = ['mean']\n",
    "    \n",
    "bureau_agg = bureau_model.groupby('SK_ID_CURR')\\\n",
    "                         .agg({**num_aggregations, **cat_aggregations})\n",
    "bureau_agg.columns = pd.Index(['BURO_' + e[0] + \"_\" + e[1].upper() for e in bureau_agg.columns.tolist()])\n",
    "\n",
    "# Bureau: Active credits - using only numerical aggregations\n",
    "active = bureau_model[bureau_model['CREDIT_ACTIVE_Active'] == 1]\n",
    "active_agg = active.groupby('SK_ID_CURR').agg(num_aggregations)\n",
    "active_agg.columns = pd.Index(['ACTIVE_' + e[0] + \"_\" + e[1].upper() for e in active_agg.columns.tolist()])\n",
    "bureau_agg = bureau_agg.join(active_agg, how='left', on='SK_ID_CURR')\n",
    "del active, active_agg\n",
    "gc.collect()\n",
    "\n",
    "# Bureau: Closed credits - using only numerical aggregations\n",
    "closed = bureau_model[bureau_model['CREDIT_ACTIVE_Closed'] == 1]\n",
    "closed_agg = closed.groupby('SK_ID_CURR').agg(num_aggregations)\n",
    "closed_agg.columns = pd.Index(['CLOSED_' + e[0] + \"_\" + e[1].upper() for e in closed_agg.columns.tolist()])\n",
    "bureau_agg = bureau_agg.join(closed_agg, how='left', on='SK_ID_CURR')\n",
    "del closed, closed_agg\n"
   ]
  },
  {
   "cell_type": "markdown",
   "metadata": {},
   "source": [
    "Now Creating new Features"
   ]
  },
  {
   "cell_type": "markdown",
   "metadata": {},
   "source": [
    "#### Number of Past Loan per Customer \n",
    "Reference:[HOME CREDIT - BUREAU DATA - FEATURE ENGINEERING](\"https://www.kaggle.com/shanth84/home-credit-bureau-data-feature-engineering\")"
   ]
  },
  {
   "cell_type": "code",
   "execution_count": 87,
   "metadata": {},
   "outputs": [],
   "source": [
    "bureau_loan_count= bureau[['SK_ID_CURR', 'DAYS_CREDIT']]\\\n",
    "                         .groupby(by=['SK_ID_CURR'])['DAYS_CREDIT']\\\n",
    "                         .count().reset_index()\\\n",
    "                         .rename(index=str,\n",
    "                                 columns={'DAYS_CREDIT': 'BUREAU_LOAN_COUNT'})\n",
    "\n",
    "bureau_agg = bureau_agg.merge(bureau_loan_count,\n",
    "                              on=['SK_ID_CURR'], how='left')\n",
    "del bureau_loan_count"
   ]
  },
  {
   "cell_type": "markdown",
   "metadata": {},
   "source": [
    "#### Number of Types of Past Loans per Customer\n",
    "Reference:[HOME CREDIT - BUREAU DATA - FEATURE ENGINEERING](\"https://www.kaggle.com/shanth84/home-credit-bureau-data-feature-engineering\")"
   ]
  },
  {
   "cell_type": "code",
   "execution_count": 88,
   "metadata": {},
   "outputs": [],
   "source": [
    "bureau_number_of_types = bureau[['SK_ID_CURR', 'CREDIT_TYPE']]\\\n",
    "                               .groupby(by=['SK_ID_CURR'])\\\n",
    "                               ['CREDIT_TYPE'].nunique().reset_index()\\\n",
    "                               .rename(index=str,\n",
    "                                       columns={'CREDIT_TYPE': 'BUREAU_LOAN_TYPES'})\n",
    "\n",
    "bureau_agg= bureau_agg.merge(bureau_number_of_types,\n",
    "                             on=['SK_ID_CURR'], how='left')\n",
    "del bureau_number_of_types"
   ]
  },
  {
   "cell_type": "markdown",
   "metadata": {},
   "source": [
    "#### Average Number of Past Loans per Type per Customer\n",
    "Is the Customer diversified in taking multiple types of Loan or Focused on a single type of loan?\n",
    "\n",
    "Reference:[HOME CREDIT - BUREAU DATA - FEATURE ENGINEERING](\"https://www.kaggle.com/shanth84/home-credit-bureau-data-feature-engineering\")"
   ]
  },
  {
   "cell_type": "code",
   "execution_count": 89,
   "metadata": {},
   "outputs": [],
   "source": [
    "# Number of Loans per Customer\n",
    "grp = bureau[['SK_ID_CURR', 'DAYS_CREDIT']]\\\n",
    "            .groupby(by=['SK_ID_CURR'])['DAYS_CREDIT'].count().reset_index()\\\n",
    "                    .rename(index=str,\n",
    "                            columns={'DAYS_CREDIT': 'BUREAU_LOAN_COUNT'})\n",
    "\n",
    "bureau =bureau.merge(grp, on=['SK_ID_CURR'], how='left')\n",
    "\n",
    "# Number of types of Credit loans for each Customer \n",
    "grp = bureau[['SK_ID_CURR', 'CREDIT_TYPE']]\\\n",
    "             .groupby(by=['SK_ID_CURR'])['CREDIT_TYPE'].nunique().reset_index()\\\n",
    "             .rename(index=str,\n",
    "                     columns={'CREDIT_TYPE': 'BUREAU_LOAN_TYPES'})\n",
    "\n",
    "bureau = bureau.merge(grp, on=['SK_ID_CURR'], how='left')\n",
    "\n",
    "bureau['AVERAGE_LOAN_TYPE'] = bureau['BUREAU_LOAN_COUNT']/bureau['BUREAU_LOAN_TYPES']"
   ]
  },
  {
   "cell_type": "code",
   "execution_count": 90,
   "metadata": {},
   "outputs": [],
   "source": [
    "avg_loan_type = bureau[['SK_ID_CURR','AVERAGE_LOAN_TYPE']]\n",
    "avg_loan_type.drop_duplicates(\"SK_ID_CURR\", inplace=True)\n",
    "bureau_agg= bureau_agg.merge(avg_loan_type, on=['SK_ID_CURR'], how='left')\n",
    "del avg_loan_type"
   ]
  },
  {
   "cell_type": "markdown",
   "metadata": {},
   "source": [
    "#### Average Number of Days Between Succesive Past Application for Each Customer\n",
    "How often did the customer take credit in the past? Was it spaced out at regular time intervals - a signal of good financial planning OR were the loans concentrated around a smaller time frame - indicating potential financial trouble?\n",
    "\n",
    "Reference:[HOME CREDIT - BUREAU DATA - FEATURE ENGINEERING](\"https://www.kaggle.com/shanth84/home-credit-bureau-data-feature-engineering\")"
   ]
  },
  {
   "cell_type": "code",
   "execution_count": 91,
   "metadata": {},
   "outputs": [
    {
     "name": "stdout",
     "output_type": "stream",
     "text": [
      "CPU times: user 1min 56s, sys: 1.31 s, total: 1min 57s\n",
      "Wall time: 1min 58s\n"
     ]
    }
   ],
   "source": [
    "%%time\n",
    "avg_days_succ_app = bureau[['SK_ID_CURR', 'SK_ID_BUREAU',\n",
    "                            'DAYS_CREDIT']].groupby(by = ['SK_ID_CURR'])\n",
    "\n",
    "avg_days_succ_app_1 = avg_days_succ_app.apply(lambda x:\n",
    "                                              x.sort_values(['DAYS_CREDIT'],\n",
    "                                                            ascending = False))\\\n",
    "                                               .reset_index(drop = True)"
   ]
  },
  {
   "cell_type": "code",
   "execution_count": 92,
   "metadata": {},
   "outputs": [],
   "source": [
    "bureau_agg= bureau_agg.merge(avg_days_succ_app_1, on = ['SK_ID_CURR'], how = 'left')\n",
    "del avg_days_succ_app,avg_days_succ_app_1 "
   ]
  },
  {
   "cell_type": "markdown",
   "metadata": {},
   "source": [
    "#### Rate of Loans perCustomer Where End Date for Credit is past \n",
    "\n",
    "NEGATIVE VALUE - Credit date was in the past at time of application( May be bad sign )\n",
    "\n",
    "POSITIVE VALUE - Credit date is in the future at time of application ( May be good sign)\n",
    "\n",
    "Reference:[HOME CREDIT - BUREAU DATA - FEATURE ENGINEERING](\"https://www.kaggle.com/shanth84/home-credit-bureau-data-feature-engineering\")"
   ]
  },
  {
   "cell_type": "code",
   "execution_count": 93,
   "metadata": {},
   "outputs": [
    {
     "name": "stdout",
     "output_type": "stream",
     "text": [
      "New Binary Column calculated\n"
     ]
    }
   ],
   "source": [
    "bureau_model['CREDIT_ENDDATE_BINARY'] = bureau_model['DAYS_CREDIT_ENDDATE']\n",
    "\n",
    "def f(x):\n",
    "    if x<0:\n",
    "        y = 0\n",
    "    else:\n",
    "        y = 1   \n",
    "    return y\n",
    "\n",
    "bureau_model['CREDIT_ENDDATE_BINARY'] = bureau_model.apply(lambda x: f(x.DAYS_CREDIT_ENDDATE), axis = 1)\n",
    "print(\"New Binary Column calculated\")\n",
    "\n",
    "past_rate_loans= bureau_model\\\n",
    "                    .groupby(by=['SK_ID_CURR'])['CREDIT_ENDDATE_BINARY']\\\n",
    "                    .mean()\\\n",
    "                    .reset_index()\\\n",
    "                    .rename(index=str,\n",
    "                            columns={'CREDIT_ENDDATE_BINARY': 'CREDIT_ENDDATE_PERCENTAGE'})\n"
   ]
  },
  {
   "cell_type": "code",
   "execution_count": 94,
   "metadata": {},
   "outputs": [],
   "source": [
    "bureau_agg= bureau_agg.merge(past_rate_loans,\n",
    "                             on=['SK_ID_CURR'], how='left')\n"
   ]
  },
  {
   "cell_type": "markdown",
   "metadata": {},
   "source": [
    "#### Dept Over Credit Ratio\n",
    "\n",
    "The Ratio of Total Debt to Total Credit for each Customer\n",
    "\n",
    "\n",
    "Reference:[HOME CREDIT - BUREAU DATA - FEATURE ENGINEERING](\"https://www.kaggle.com/shanth84/home-credit-bureau-data-feature-engineering\")"
   ]
  },
  {
   "cell_type": "code",
   "execution_count": 95,
   "metadata": {},
   "outputs": [],
   "source": [
    "bureau['AMT_CREDIT_SUM_DEBT'] = bureau['AMT_CREDIT_SUM_DEBT'].fillna(0)\n",
    "bureau['AMT_CREDIT_SUM'] = bureau['AMT_CREDIT_SUM'].fillna(0)\n",
    "\n",
    "grp1 = bureau[['SK_ID_CURR', 'AMT_CREDIT_SUM_DEBT']].groupby(by = ['SK_ID_CURR'])['AMT_CREDIT_SUM_DEBT'].sum().reset_index().rename( index = str, columns = { 'AMT_CREDIT_SUM_DEBT': 'TOTAL_CUSTOMER_DEBT'})\n",
    "grp2 = bureau[['SK_ID_CURR', 'AMT_CREDIT_SUM']]\\\n",
    "             .groupby(by=['SK_ID_CURR'])['AMT_CREDIT_SUM']\\\n",
    "             .sum()\\\n",
    "             .reset_index()\\\n",
    "             .rename(index=str,\n",
    "                     columns={'AMT_CREDIT_SUM': 'TOTAL_CUSTOMER_CREDIT'})\n",
    "\n",
    "bureau = bureau.merge(grp1, on=['SK_ID_CURR'], how='left')\n",
    "bureau = bureau.merge(grp2, on=['SK_ID_CURR'], how='left')\n",
    "del grp1, grp2\n",
    "\n",
    "gc.collect()\n",
    "bureau['DEBT_CREDIT_RATIO'] = bureau['TOTAL_CUSTOMER_DEBT']/bureau['TOTAL_CUSTOMER_CREDIT']\n",
    "\n",
    "del bureau['TOTAL_CUSTOMER_DEBT'], bureau['TOTAL_CUSTOMER_CREDIT']"
   ]
  },
  {
   "cell_type": "code",
   "execution_count": 96,
   "metadata": {},
   "outputs": [],
   "source": [
    "DEBT_CREDIT_RATIO=bureau[['SK_ID_CURR','DEBT_CREDIT_RATIO']]\n",
    "DEBT_CREDIT_RATIO.drop_duplicates(\"SK_ID_CURR\",inplace=True)\n",
    "bureau_agg= bureau_agg.merge(DEBT_CREDIT_RATIO, on=['SK_ID_CURR'], how='left')\n",
    "del DEBT_CREDIT_RATIO"
   ]
  },
  {
   "cell_type": "markdown",
   "metadata": {},
   "source": [
    "#### Average Number of Loans Prolonged\n",
    "\n",
    "Reference:[HOME CREDIT - BUREAU DATA - FEATURE ENGINEERING](\"https://www.kaggle.com/shanth84/home-credit-bureau-data-feature-engineering\")"
   ]
  },
  {
   "cell_type": "code",
   "execution_count": 97,
   "metadata": {},
   "outputs": [],
   "source": [
    "bureau['CNT_CREDIT_PROLONG'] = bureau['CNT_CREDIT_PROLONG'].fillna(0)\n",
    "avg_number_loan_prol = bureau[['SK_ID_CURR', 'CNT_CREDIT_PROLONG']]\\\n",
    "                          .groupby(by=['SK_ID_CURR'])['CNT_CREDIT_PROLONG']\\\n",
    "                          .mean().reset_index()\\\n",
    "                          .rename(index=str,\n",
    "                                  columns={ 'CNT_CREDIT_PROLONG': 'AVG_CREDITDAYS_PROLONGED'})"
   ]
  },
  {
   "cell_type": "code",
   "execution_count": 98,
   "metadata": {},
   "outputs": [],
   "source": [
    "bureau_agg= bureau_agg.merge(avg_number_loan_prol,\n",
    "                             on=['SK_ID_CURR'], how='left')\n",
    "del avg_number_loan_prol"
   ]
  },
  {
   "cell_type": "markdown",
   "metadata": {},
   "source": [
    "### <a id='new_featues_previous-application'>Previous Application Table New Feature Creation</a><br>  \n",
    "\n",
    "\n",
    "[Back to Contents](#contents)\n",
    "\n"
   ]
  },
  {
   "cell_type": "markdown",
   "metadata": {},
   "source": [
    "#### Creating Simple Calculated Features from Present Features"
   ]
  },
  {
   "cell_type": "code",
   "execution_count": 99,
   "metadata": {},
   "outputs": [
    {
     "name": "stdout",
     "output_type": "stream",
     "text": [
      "CPU times: user 28.9 s, sys: 14 s, total: 42.8 s\n",
      "Wall time: 40 s\n"
     ]
    }
   ],
   "source": [
    "%%time\n",
    "\n",
    "previous_application, cat_cols = one_hot_encoder(previous_application,\n",
    "                                                 nan_as_category=True)\n",
    "\n",
    "previous_application['APP_CREDIT_PERC'] = previous_application['AMT_APPLICATION'] / previous_application['AMT_CREDIT']\n",
    "num_aggregations = {\n",
    "        'AMT_ANNUITY': [ 'max', 'mean'],\n",
    "        'AMT_APPLICATION': [ 'max','mean'],\n",
    "        'AMT_CREDIT': [ 'max', 'mean'],\n",
    "        'APP_CREDIT_PERC': [ 'max', 'mean'],\n",
    "        'AMT_DOWN_PAYMENT': [ 'max', 'mean'],\n",
    "        'AMT_GOODS_PRICE': [ 'max', 'mean'],\n",
    "        'HOUR_APPR_PROCESS_START': [ 'max', 'mean'],\n",
    "        'RATE_DOWN_PAYMENT': [ 'max', 'mean'],\n",
    "        'DAYS_DECISION': [ 'max', 'mean'],\n",
    "        'CNT_PAYMENT': ['mean', 'sum'],\n",
    "    }\n",
    "    # Previous applications categorical features\n",
    "cat_aggregations = {}\n",
    "for cat in cat_cols:\n",
    "    cat_aggregations[cat] = ['mean']\n",
    "    \n",
    "previous_app_model = previous_application.groupby('SK_ID_CURR').agg({**num_aggregations, **cat_aggregations})\n",
    "#removing first level column names\n",
    "previous_app_model.columns = pd.Index(['PREV_' + e[0] + \"_\" + e[1].upper() for e in previous_app_model.columns.tolist()])"
   ]
  },
  {
   "cell_type": "markdown",
   "metadata": {},
   "source": [
    "#### Creating New Features "
   ]
  },
  {
   "cell_type": "markdown",
   "metadata": {},
   "source": [
    "#### Previous Application Term of Last 3 Credits Mean"
   ]
  },
  {
   "cell_type": "code",
   "execution_count": 100,
   "metadata": {},
   "outputs": [],
   "source": [
    "# Last 3 previous Credit dataset per customer\n",
    "previous_application = previous_application\\\n",
    "                          .sort_values(['SK_ID_CURR', 'DAYS_DECISION'])\n",
    "prev_applications_tail = previous_application\\\n",
    "                            .groupby(by=['SK_ID_CURR']).tail(3)"
   ]
  },
  {
   "cell_type": "code",
   "execution_count": 101,
   "metadata": {},
   "outputs": [],
   "source": [
    "PREV_APP_TERM_3CREDIT_MEAN= prev_applications_tail\\\n",
    "                              .groupby(by=['SK_ID_CURR'])['CNT_PAYMENT']\\\n",
    "                              .mean().reset_index()\n",
    "\n",
    "PREV_APP_TERM_3CREDIT_MEAN.rename(columns={'CNT_PAYMENT': 'PREV_APP_TERM_3CREDIT_MEAN'},\n",
    "                        inplace=True)"
   ]
  },
  {
   "cell_type": "code",
   "execution_count": 102,
   "metadata": {},
   "outputs": [],
   "source": [
    "previous_app_model = previous_app_model.merge(PREV_APP_TERM_3CREDIT_MEAN,\n",
    "                                              on=['SK_ID_CURR'], how='left')\n",
    "del PREV_APP_TERM_3CREDIT_MEAN"
   ]
  },
  {
   "cell_type": "markdown",
   "metadata": {},
   "source": [
    "#### Previous Application Days Decision About Last 3 Credits Mean"
   ]
  },
  {
   "cell_type": "code",
   "execution_count": 103,
   "metadata": {},
   "outputs": [],
   "source": [
    "PREV_APP_DAY_DEC_3CREDIT_MEAN = prev_applications_tail.groupby(by=['SK_ID_CURR'])['DAYS_DECISION']\\\n",
    "                                                      .mean().reset_index()\n",
    "\n",
    "PREV_APP_DAY_DEC_3CREDIT_MEAN.rename(columns={\n",
    "        'DAYS_DECISION': 'PREV_APP_DAY_DEC_3CREDIT_MEAN'}, inplace=True)"
   ]
  },
  {
   "cell_type": "code",
   "execution_count": 104,
   "metadata": {},
   "outputs": [],
   "source": [
    "previous_app_model = previous_app_model\\\n",
    "                        .merge(PREV_APP_DAY_DEC_3CREDIT_MEAN,\n",
    "                               on=['SK_ID_CURR'], how='left')\n",
    "\n",
    "del PREV_APP_DAY_DEC_3CREDIT_MEAN"
   ]
  },
  {
   "cell_type": "markdown",
   "metadata": {},
   "source": [
    "#### Previous Application Days First Drawing Last 3 Credits Mean"
   ]
  },
  {
   "cell_type": "code",
   "execution_count": 105,
   "metadata": {},
   "outputs": [],
   "source": [
    "PREV_APP_DAY_FIRST_DRAW_3CREDIT_MEAN = prev_applications_tail\\\n",
    "                                         .groupby(by=['SK_ID_CURR'])\\\n",
    "                                          ['DAYS_FIRST_DRAWING']\\\n",
    "                                         .mean()\\\n",
    "                                         .reset_index()\n",
    "\n",
    "PREV_APP_DAY_FIRST_DRAW_3CREDIT_MEAN.rename( columns={\n",
    "        'DAYS_FIRST_DRAWING': 'PREV_APP_DAY_FIRST_DRAW_3CREDIT_MEAN'},\n",
    "                        inplace=True)\n"
   ]
  },
  {
   "cell_type": "code",
   "execution_count": 106,
   "metadata": {},
   "outputs": [],
   "source": [
    "previous_app_model = previous_app_model\\\n",
    "                        .merge(PREV_APP_DAY_FIRST_DRAW_3CREDIT_MEAN,\n",
    "                               on=['SK_ID_CURR'], how='left')\n",
    "\n",
    "del PREV_APP_DAY_FIRST_DRAW_3CREDIT_MEAN, prev_applications_tail"
   ]
  },
  {
   "cell_type": "markdown",
   "metadata": {},
   "source": [
    "### <a id='new_featues_pos_cash'>Pos Cash Table New Feature Creation</a><br>  \n",
    "\n",
    "\n",
    "[Back to Contents](#contents)\n"
   ]
  },
  {
   "cell_type": "markdown",
   "metadata": {},
   "source": [
    "#### Creating Simple Calculated Features from Present Features"
   ]
  },
  {
   "cell_type": "code",
   "execution_count": 107,
   "metadata": {},
   "outputs": [],
   "source": [
    "POS_CASH_balance_1 = POS_CASH_balance.copy()\n",
    "POS_CASH_balance_1, cat_cols = one_hot_encoder(POS_CASH_balance_1)"
   ]
  },
  {
   "cell_type": "code",
   "execution_count": 108,
   "metadata": {},
   "outputs": [],
   "source": [
    "aggregations = {\n",
    "        'MONTHS_BALANCE': ['max', 'mean', 'size'],\n",
    "        'SK_DPD': ['max', 'mean'],\n",
    "        'SK_DPD_DEF': ['max', 'mean']\n",
    "    }\n",
    "for cat in cat_cols:\n",
    "    aggregations[cat] = ['mean']\n",
    "    \n",
    "pos_model = POS_CASH_balance_1.groupby('SK_ID_CURR').agg(aggregations)\n",
    "pos_model.columns = pd.Index(['POS_' + e[0] + \"_\" + e[1].upper() for e in pos_model.columns.tolist()])\n"
   ]
  },
  {
   "cell_type": "markdown",
   "metadata": {},
   "source": [
    "#### Creating New Features "
   ]
  },
  {
   "cell_type": "markdown",
   "metadata": {},
   "source": [
    "#### Count of pos cash per customer"
   ]
  },
  {
   "cell_type": "code",
   "execution_count": 109,
   "metadata": {},
   "outputs": [],
   "source": [
    "pos_model['POS_COUNT'] = POS_CASH_balance.groupby('SK_ID_CURR').size()"
   ]
  },
  {
   "cell_type": "markdown",
   "metadata": {},
   "source": [
    "#### Count of Completed Loans per Customer"
   ]
  },
  {
   "cell_type": "code",
   "execution_count": 110,
   "metadata": {},
   "outputs": [],
   "source": [
    "POS_CASH_balance['completed'] = POS_CASH_balance['NAME_CONTRACT_STATUS'] == 'Completed'\n",
    "COUNT_COMPLETED_POS_CASH = POS_CASH_balance.groupby(['SK_ID_CURR'])\\\n",
    "                              ['completed'].sum().reset_index()\n"
   ]
  },
  {
   "cell_type": "code",
   "execution_count": 111,
   "metadata": {},
   "outputs": [],
   "source": [
    "COUNT_COMPLETED_POS_CASH.rename(\n",
    "                    columns={'completed': 'COUNT_COMPLETED_POS_CASH'},\n",
    "                    inplace=True)\n",
    "pos_model = pos_model.merge(COUNT_COMPLETED_POS_CASH, on=['SK_ID_CURR'], how='left')"
   ]
  },
  {
   "cell_type": "code",
   "execution_count": 112,
   "metadata": {},
   "outputs": [],
   "source": [
    "del POS_CASH_balance_1,COUNT_COMPLETED_POS_CASH"
   ]
  },
  {
   "cell_type": "markdown",
   "metadata": {},
   "source": [
    "### <a id='new_featues_credit_card_balance'>Credit Card Balance Table New Feature Creation</a><br>  \n",
    "\n",
    "\n",
    "[Back to Contents](#contents)\n"
   ]
  },
  {
   "cell_type": "code",
   "execution_count": 113,
   "metadata": {},
   "outputs": [],
   "source": [
    "credit_card_balance_1=credit_card_balance.copy()"
   ]
  },
  {
   "cell_type": "markdown",
   "metadata": {},
   "source": [
    "#### Creating Simple Calculated Features from Present Features"
   ]
  },
  {
   "cell_type": "code",
   "execution_count": 114,
   "metadata": {},
   "outputs": [],
   "source": [
    "credit_card_balance_1, cat_cols = one_hot_encoder(credit_card_balance_1)\n",
    "    # General aggregations\n",
    "credit_card_balance_1.drop(['SK_ID_PREV'], axis= 1, inplace = True)\n",
    "credit_card_balance_model = credit_card_balance_1.groupby('SK_ID_CURR')\\\n",
    "                                                 .agg(['max', 'mean',\n",
    "                                                       'sum', 'var'])\n",
    "\n",
    "credit_card_balance_model.columns = pd.Index(['CC_' + e[0] + \"_\" + e[1]\\\n",
    "                                      .upper() for e in credit_card_balance_model.columns.tolist()])"
   ]
  },
  {
   "cell_type": "markdown",
   "metadata": {},
   "source": [
    "#### Creating New Features \n",
    "\n"
   ]
  },
  {
   "cell_type": "markdown",
   "metadata": {},
   "source": [
    "#### Count of Entry per Customer"
   ]
  },
  {
   "cell_type": "code",
   "execution_count": 115,
   "metadata": {},
   "outputs": [],
   "source": [
    "# Count credit card lines\n",
    "credit_card_balance_model['CC_COUNT'] = credit_card_balance.groupby('SK_ID_CURR').size()"
   ]
  },
  {
   "cell_type": "code",
   "execution_count": 116,
   "metadata": {},
   "outputs": [],
   "source": [
    "del credit_card_balance_1"
   ]
  },
  {
   "cell_type": "markdown",
   "metadata": {},
   "source": [
    "### <a id='new_featues_install_payments'>Install Payments Table New Feature Creation</a><br>  \n",
    "\n",
    "\n",
    "[Back to Contents](#contents)"
   ]
  },
  {
   "cell_type": "markdown",
   "metadata": {},
   "source": [
    "#### Creating New Features \n",
    "\n",
    "\n",
    "\n",
    "#### Payment Percent Per Credit"
   ]
  },
  {
   "cell_type": "code",
   "execution_count": 117,
   "metadata": {},
   "outputs": [],
   "source": [
    "install_pay_1 = install_pay.copy()"
   ]
  },
  {
   "cell_type": "code",
   "execution_count": 118,
   "metadata": {},
   "outputs": [],
   "source": [
    "install_pay_1['PAYMENT_PERC'] = install_pay_1['AMT_PAYMENT'] / install_pay_1['AMT_INSTALMENT']\n"
   ]
  },
  {
   "cell_type": "markdown",
   "metadata": {},
   "source": [
    "#### Rest of The Payment"
   ]
  },
  {
   "cell_type": "code",
   "execution_count": 119,
   "metadata": {},
   "outputs": [],
   "source": [
    "install_pay_1['PAYMENT_DIFF'] = install_pay_1['AMT_INSTALMENT'] - install_pay_1['AMT_PAYMENT']"
   ]
  },
  {
   "cell_type": "markdown",
   "metadata": {},
   "source": [
    "#### Days Past Due and Days Before Due"
   ]
  },
  {
   "cell_type": "code",
   "execution_count": 120,
   "metadata": {},
   "outputs": [],
   "source": [
    "install_pay_1['DPD'] = install_pay_1['DAYS_ENTRY_PAYMENT'] - install_pay_1['DAYS_INSTALMENT']\n",
    "install_pay_1['DBD'] = install_pay_1['DAYS_INSTALMENT'] - install_pay_1['DAYS_ENTRY_PAYMENT']\n",
    "install_pay_1['DPD'] = install_pay_1['DPD'].apply(lambda x: x if x > 0 else 0)\n",
    "install_pay_1['DBD'] = install_pay_1['DBD'].apply(lambda x: x if x > 0 else 0)"
   ]
  },
  {
   "cell_type": "markdown",
   "metadata": {},
   "source": [
    "#### Creating Simple Calculated Features from Present Features"
   ]
  },
  {
   "cell_type": "code",
   "execution_count": 121,
   "metadata": {},
   "outputs": [],
   "source": [
    "install_pay_1, cat_cols = one_hot_encoder(install_pay_1, nan_as_category= True)\n",
    "aggregations = {\n",
    "        'NUM_INSTALMENT_VERSION': ['nunique'],\n",
    "        'DPD': ['max', 'mean', 'sum'],\n",
    "        'DBD': ['max', 'mean', 'sum'],\n",
    "        'PAYMENT_PERC': [ 'mean',  'var'],\n",
    "        'PAYMENT_DIFF': [ 'mean', 'var'],\n",
    "        'AMT_INSTALMENT': ['max', 'mean', 'sum'],\n",
    "        'AMT_PAYMENT': ['min', 'max', 'mean', 'sum'],\n",
    "        'DAYS_ENTRY_PAYMENT': ['max', 'mean', 'sum']\n",
    "    }\n",
    "for cat in cat_cols:\n",
    "    aggregations[cat] = ['mean']\n",
    "install_pay_model = install_pay_1.groupby('SK_ID_CURR').agg(aggregations)\n",
    "install_pay_model.columns = pd.Index(['INSTAL_' + e[0] + \"_\" + e[1].upper() for e in install_pay_model.columns.tolist()])\n"
   ]
  },
  {
   "cell_type": "code",
   "execution_count": 122,
   "metadata": {},
   "outputs": [],
   "source": [
    "del install_pay_1"
   ]
  },
  {
   "cell_type": "markdown",
   "metadata": {},
   "source": [
    "## <a id='modeling'>Modeling</a><br>  \n",
    "\n",
    "\n",
    "[Back to Contents](#contents)"
   ]
  },
  {
   "cell_type": "markdown",
   "metadata": {},
   "source": [
    "### <a id='feature_set'>Create Feature Data Set</a><br>  \n"
   ]
  },
  {
   "cell_type": "code",
   "execution_count": 123,
   "metadata": {},
   "outputs": [],
   "source": [
    "del POS_CASH_balance, application, bureau_balance, credit_card_balance, install_pay, previous_application"
   ]
  },
  {
   "cell_type": "code",
   "execution_count": 126,
   "metadata": {},
   "outputs": [],
   "source": [
    "application_model.set_index('SK_ID_CURR', inplace=True)\n",
    "test_model.set_index('SK_ID_CURR', inplace=True)"
   ]
  },
  {
   "cell_type": "code",
   "execution_count": 127,
   "metadata": {},
   "outputs": [],
   "source": [
    "features = application_model.merge(install_pay_model,\n",
    "                                   left_index=True, right_index=True,\n",
    "                                   how=\"left\")\n",
    "features_test = test_model.merge(install_pay_model, left_index=True,\n",
    "                                 right_index=True, how=\"left\")"
   ]
  },
  {
   "cell_type": "code",
   "execution_count": 96,
   "metadata": {},
   "outputs": [],
   "source": [
    "del application_model\n",
    "del install_pay_model"
   ]
  },
  {
   "cell_type": "code",
   "execution_count": 128,
   "metadata": {},
   "outputs": [],
   "source": [
    "features = features.merge(credit_card_balance_model, left_index=True,\n",
    "                          right_index=True,how=\"left\")\n",
    "features_test = features_test.merge(credit_card_balance_model, left_index=True,\n",
    "                                    right_index=True,how=\"left\")\n"
   ]
  },
  {
   "cell_type": "code",
   "execution_count": 98,
   "metadata": {},
   "outputs": [],
   "source": [
    "del credit_card_balance_model"
   ]
  },
  {
   "cell_type": "code",
   "execution_count": 129,
   "metadata": {},
   "outputs": [],
   "source": [
    "features = features.merge(pos_model, left_index=True, right_index=True,\n",
    "                          how=\"left\")\n",
    "features_test=features_test.merge(pos_model, left_index=True, right_index=True,\n",
    "                                  how=\"left\")\n"
   ]
  },
  {
   "cell_type": "code",
   "execution_count": 100,
   "metadata": {},
   "outputs": [],
   "source": [
    "del pos_model"
   ]
  },
  {
   "cell_type": "code",
   "execution_count": 130,
   "metadata": {},
   "outputs": [],
   "source": [
    "features = features.merge(previous_app_model, left_index=True,\n",
    "                          right_index=True, how=\"left\")\n",
    "\n",
    "features_test=features_test.merge(previous_app_model, left_index=True,\n",
    "                                  right_index=True, how=\"left\")"
   ]
  },
  {
   "cell_type": "code",
   "execution_count": 102,
   "metadata": {},
   "outputs": [],
   "source": [
    "del previous_app_model"
   ]
  },
  {
   "cell_type": "code",
   "execution_count": 131,
   "metadata": {},
   "outputs": [],
   "source": [
    "features=features.merge(bureau_agg, left_index=True, right_index=True,\n",
    "                        how=\"left\")\n",
    "\n",
    "features_test=features_test.merge(bureau_agg, left_index=True,\n",
    "                                  right_index=True, how=\"left\")"
   ]
  },
  {
   "cell_type": "code",
   "execution_count": 104,
   "metadata": {},
   "outputs": [],
   "source": [
    "del bureau_agg"
   ]
  },
  {
   "cell_type": "code",
   "execution_count": 132,
   "metadata": {},
   "outputs": [],
   "source": [
    "features=features.merge(previous_app_model, left_index=True,\n",
    "                        right_index=True, how=\"left\")\n",
    "features_test=features_test.merge(previous_app_model, left_index=True,\n",
    "                                  right_index=True, how=\"left\")"
   ]
  },
  {
   "cell_type": "code",
   "execution_count": 116,
   "metadata": {},
   "outputs": [],
   "source": [
    "del previous_app_model"
   ]
  },
  {
   "cell_type": "code",
   "execution_count": 133,
   "metadata": {},
   "outputs": [
    {
     "data": {
      "text/plain": [
       "(307511, 665)"
      ]
     },
     "execution_count": 133,
     "metadata": {},
     "output_type": "execute_result"
    }
   ],
   "source": [
    "features.shape"
   ]
  },
  {
   "cell_type": "code",
   "execution_count": 134,
   "metadata": {},
   "outputs": [
    {
     "data": {
      "text/plain": [
       "(48744, 664)"
      ]
     },
     "execution_count": 134,
     "metadata": {},
     "output_type": "execute_result"
    }
   ],
   "source": [
    "features_test.shape"
   ]
  },
  {
   "cell_type": "code",
   "execution_count": 135,
   "metadata": {},
   "outputs": [],
   "source": [
    "#features.to_csv(\"features.csv\", sep='\\t')"
   ]
  },
  {
   "cell_type": "code",
   "execution_count": 136,
   "metadata": {},
   "outputs": [],
   "source": [
    "#features_test.to_csv(\"features_test.csv\", sep='\\t')"
   ]
  },
  {
   "cell_type": "markdown",
   "metadata": {},
   "source": [
    "### <a id='model_evo'>Model Evolution</a><br>  \n",
    "\n",
    "\n",
    "[Back to Contents](#contents)"
   ]
  },
  {
   "cell_type": "code",
   "execution_count": 330,
   "metadata": {},
   "outputs": [],
   "source": [
    "app_test=features_test"
   ]
  },
  {
   "cell_type": "code",
   "execution_count": 137,
   "metadata": {},
   "outputs": [],
   "source": [
    "features['SK_ID_CURR'] = features.index"
   ]
  },
  {
   "cell_type": "code",
   "execution_count": 138,
   "metadata": {},
   "outputs": [],
   "source": [
    "features_test['SK_ID_CURR'] = features_test.index"
   ]
  },
  {
   "cell_type": "code",
   "execution_count": 139,
   "metadata": {},
   "outputs": [],
   "source": [
    "meta_cols = ['SK_ID_CURR']\n",
    "meta_features = features[meta_cols]\n",
    "features.drop(columns=meta_cols, inplace=True)"
   ]
  },
  {
   "cell_type": "markdown",
   "metadata": {},
   "source": [
    "### <a id='lightgbm'>LightGBM</a>\n",
    "\n",
    "\n",
    "[Back to Contents](#contents)"
   ]
  },
  {
   "cell_type": "code",
   "execution_count": 140,
   "metadata": {},
   "outputs": [],
   "source": [
    "def process_dataframe(input_df, encoder_dict=None):\n",
    "    \"\"\" Process a dataframe into a form useable by LightGBM \"\"\"\n",
    "    \n",
    "    # Label encode categoricals\n",
    "    print('Label encoding categorical features...')\n",
    "    categorical_feats = input_df.columns[input_df.dtypes == 'object']\n",
    "    for feat in categorical_feats:\n",
    "        encoder = LabelEncoder()\n",
    "        input_df[feat] = encoder.fit_transform(input_df[feat].fillna('NULL'))\n",
    "    print('Label encoding complete.')\n",
    "\n",
    "    return input_df, categorical_feats.tolist(), encoder_dict"
   ]
  },
  {
   "cell_type": "code",
   "execution_count": 142,
   "metadata": {},
   "outputs": [
    {
     "name": "stdout",
     "output_type": "stream",
     "text": [
      "Label encoding categorical features...\n",
      "Label encoding complete.\n",
      "[50]\tcv_agg's auc: 0.766985 + 0.00234617\n",
      "[100]\tcv_agg's auc: 0.77135 + 0.00214735\n",
      "[150]\tcv_agg's auc: 0.772671 + 0.00231059\n",
      "[200]\tcv_agg's auc: 0.773554 + 0.00230504\n",
      "[250]\tcv_agg's auc: 0.77474 + 0.0023899\n",
      "[300]\tcv_agg's auc: 0.775055 + 0.00237311\n",
      "[350]\tcv_agg's auc: 0.775481 + 0.00219765\n",
      "[400]\tcv_agg's auc: 0.775659 + 0.00212032\n",
      "[450]\tcv_agg's auc: 0.775813 + 0.00195205\n",
      "Optimum boost rounds = 445\n",
      "Best CV result = 0.7758476070664334\n",
      "CPU times: user 56min 52s, sys: 6min 24s, total: 1h 3min 16s\n",
      "Wall time: 21min 44s\n"
     ]
    }
   ],
   "source": [
    "%%time\n",
    "# LightGBM Model\n",
    "\n",
    "\n",
    "import lightgbm as lgbm\n",
    "\n",
    "\n",
    "# Process the data set.\n",
    "features, categorical_feats, encoder_dict = process_dataframe(input_df=features)\n",
    "\n",
    "\n",
    "# Separate into train and test\n",
    "train_df = features\n",
    "test_df = features_test\n",
    "\n",
    "\n",
    "#the model \n",
    "target = train_df.pop('TARGET')\n",
    "lgbm_train = lgbm.Dataset(data=train_df,\n",
    "                          label=target,\n",
    "                          categorical_feature=categorical_feats,\n",
    "                          free_raw_data=False)\n",
    "\n",
    "gc.collect()\n",
    "\n",
    "lgbm_params = {\n",
    "    'boosting': 'dart',\n",
    "    'application': 'binary',\n",
    "    'learning_rate': 0.1,\n",
    "    'min_data_in_leaf': 30,\n",
    "    'num_leaves': 31,\n",
    "    'max_depth': -1,\n",
    "    'feature_fraction': 0.5,\n",
    "    'scale_pos_weight': 2,\n",
    "    'drop_rate': 0.02\n",
    "}\n",
    "#Cross Validation Test\n",
    "cv_results = lgbm.cv(train_set=lgbm_train,\n",
    "                     params=lgbm_params,\n",
    "                     nfold=5,\n",
    "                     num_boost_round=500,\n",
    "                     early_stopping_rounds=50,\n",
    "                     verbose_eval=50,\n",
    "                     metrics=['auc'])\n",
    "\n",
    "optimum_boost_rounds = np.argmax(cv_results['auc-mean'])\n",
    "print('Optimum boost rounds = {}'.format(optimum_boost_rounds))\n",
    "print('Best CV result = {}'.format(np.max(cv_results['auc-mean'])))\n",
    "\n",
    "clf = lgbm.train(train_set=lgbm_train,\n",
    "                 params=lgbm_params,\n",
    "                 num_boost_round=optimum_boost_rounds)"
   ]
  },
  {
   "cell_type": "markdown",
   "metadata": {},
   "source": [
    "### <a id='test_set'>Predicting Test Set and Create Submission</a>\n",
    "\n",
    "\n",
    "[Back to Contents](#contents)"
   ]
  },
  {
   "cell_type": "code",
   "execution_count": 144,
   "metadata": {},
   "outputs": [
    {
     "name": "stdout",
     "output_type": "stream",
     "text": [
      "Label encoding categorical features...\n",
      "Label encoding complete.\n"
     ]
    },
    {
     "data": {
      "image/png": "[encoded data removed]",
      "text/plain": [
       "<Figure size 792x504 with 2 Axes>"
      ]
     },
     "metadata": {},
     "output_type": "display_data"
    }
   ],
   "source": [
    "# Predict on test set and create submission\n",
    "features_test, categorical_feats, encoder_dict = process_dataframe(input_df=features_test)\n",
    "y_pred = clf.predict(features_test)\n",
    "out_df = pd.DataFrame({'SK_ID_CURR': test['SK_ID_CURR'], 'TARGET': y_pred})\n",
    "out_df.to_csv('submission.csv', index=False)\n",
    "\n",
    "fig, (ax, ax1) = plt.subplots(1, 2, figsize=[11, 7])\n",
    "lgbm.plot_importance(clf, ax=ax, max_num_features=20, importance_type='split')\n",
    "lgbm.plot_importance(clf, ax=ax1, max_num_features=20, importance_type='gain')\n",
    "ax.set_title('Importance by splits')\n",
    "ax1.set_title('Importance by gain')\n",
    "plt.tight_layout()\n",
    "plt.savefig('feature_importance.png')"
   ]
  },
  {
   "cell_type": "markdown",
   "metadata": {},
   "source": [
    "## <a id='final_words'>Final Words</a>\n",
    "\n",
    "\n",
    "[Back to Contents](#contents)"
   ]
  },
  {
   "cell_type": "markdown",
   "metadata": {},
   "source": [
    "### <a id='summary_result'>Summary of the Results</a>\n"
   ]
  },
  {
   "cell_type": "markdown",
   "metadata": {},
   "source": [
    "A gradient boosting framework that uses tree based learning algorithms (LightGBM) is selected for its speed and higher efficiency. Model helped to test Multiple features and parameters in a short period of time.\n",
    "\n",
    "Additional 590 features (total: 663) extracted from 7 tables. Feature importance, extracted from the final LightGBM model was found to have a spread amongst the many features. Best peforming features are \"NEW_CREDIT_ANNUITY_RATIO\", \"ORGANISATION_TYPE\" and EXT_SOURCE as expected. Many of the most important features came from main table (Application)\n",
    "\n",
    "Best cross validation AUC score with train data is 77.5 which is obtained with 445 boost rounds. Same model is scored 75.164 with test data (submitted to Kaggle)"
   ]
  },
  {
   "cell_type": "markdown",
   "metadata": {},
   "source": [
    "### <a id='future'>Future Work</a>\n",
    "\n",
    "\n",
    "[Back to Contents](#contents)"
   ]
  },
  {
   "cell_type": "markdown",
   "metadata": {},
   "source": [
    "* Permutation test for feature selection can be applied to final features.\n",
    "* More model can be applied to features; only 1 model used.\n",
    "* KNN can be applied with different feature to group customers.\n",
    "* Pipelines can be used for parameter optimisation\n",
    "* Features with more variance can be extracted"
   ]
  },
  {
   "cell_type": "code",
   "execution_count": null,
   "metadata": {},
   "outputs": [],
   "source": []
  }
 ],
 "metadata": {
  "kernelspec": {
   "display_name": "Python 3",
   "language": "python",
   "name": "python3"
  },
  "language_info": {
   "codemirror_mode": {
    "name": "ipython",
    "version": 3
   },
   "file_extension": ".py",
   "mimetype": "text/x-python",
   "name": "python",
   "nbconvert_exporter": "python",
   "pygments_lexer": "ipython3",
   "version": "3.6.4"
  }
 },
 "nbformat": 4,
 "nbformat_minor": 2
}
